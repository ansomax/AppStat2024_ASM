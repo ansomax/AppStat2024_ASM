{
 "cells": [
  {
   "cell_type": "code",
   "execution_count": 1,
   "metadata": {},
   "outputs": [
    {
     "name": "stderr",
     "output_type": "stream",
     "text": [
      "c:\\Users\\Niels\\anaconda3\\lib\\site-packages\\scipy\\__init__.py:138: UserWarning: A NumPy version >=1.16.5 and <1.23.0 is required for this version of SciPy (detected version 1.24.4)\n",
      "  warnings.warn(f\"A NumPy version >={np_minversion} and <{np_maxversion} is required for this version of \"\n"
     ]
    }
   ],
   "source": [
    "import numpy as np\n",
    "import matplotlib.pyplot as plt\n",
    "from iminuit import Minuit\n",
    "import seaborn as sns\n",
    "import sys\n",
    "import scipy.stats as sc\n",
    "import pandas as pd\n",
    "import ffl\n",
    "\n",
    "sys.path.append('../External_Functions')\n",
    "from ExternalFunctions import UnbinnedLH, Chi2Regression, BinnedLH\n",
    "from ExternalFunctions import nice_string_output, add_text_to_ax  # Useful functions to print fit results on figure\n",
    "\n",
    "sns.set()\n",
    "sns.set_context(\"paper\", font_scale=1.4)\n",
    "sns.set_style(\"ticks\")\n",
    "\n",
    "colors = sns.color_palette('deep', 10, desat = 1)\n",
    "sns.set_palette(colors)\n",
    "plt.rcParams['axes.grid'] = True\n",
    "plt.rcParams['axes.grid.axis'] = 'y'\n",
    "plt.rcParams['axes.grid.which'] = 'major'\n",
    "plt.rcParams['grid.linestyle'] = '--'\n",
    "plt.rcParams['grid.linewidth'] = 2\n",
    "plt.rcParams['figure.figsize'] = (16, 9)\n"
   ]
  },
  {
   "cell_type": "markdown",
   "metadata": {},
   "source": [
    "# 4.2 - A medical experiment is testing if a drug has a specific side effect. Out of 24 persons taking the drug, 10 had the side effect. For 24 other persons getting a placebo, only 4 had the side effect. Would you claim that the drug has this side effect?\n",
    "\n",
    "This problem can be written as a contingency table and we can then use Fisher's Exact Test on it\n",
    "\n",
    "$$ p = \\frac{(A+B)!(C+D)!(A+C)!(B+D)!}{A!B!C!D!} $$\n",
    "\n",
    "where $A$ is the entry $1,1$ in the table, $B$ is $1,2$ and so forth. When doing the test, we have to keep track of the null hypothesis:\n",
    "\n",
    "$H_0$: There is no correlation between experiencing a sideeffect and taking the drug.\n",
    "\n",
    "\n",
    "With the calculated p_value of 0.043 we must then reject this hypothesis if we set the usual signifiance level to 95%. It would seem like there is some relation between taking the drugs, and experiencing a side effect.\n",
    "\n",
    "\n"
   ]
  },
  {
   "cell_type": "code",
   "execution_count": 3,
   "metadata": {},
   "outputs": [
    {
     "name": "stdout",
     "output_type": "stream",
     "text": [
      "0.04320840795901439\n"
     ]
    }
   ],
   "source": [
    "A = 10\n",
    "B = 14\n",
    "C = 4\n",
    "D = 20\n",
    "\n",
    "from math import factorial\n",
    "\n",
    "p_val = factorial(A+B) * factorial(C+D) * factorial(A+C) * factorial(B+D) / factorial(A) / factorial(B) / factorial(C) / factorial(D)  / factorial(A+B+C+D)\n",
    "\n",
    "print(p_val)"
   ]
  },
  {
   "cell_type": "code",
   "execution_count": null,
   "metadata": {},
   "outputs": [],
   "source": []
  }
 ],
 "metadata": {
  "kernelspec": {
   "display_name": "base",
   "language": "python",
   "name": "python3"
  },
  "language_info": {
   "codemirror_mode": {
    "name": "ipython",
    "version": 3
   },
   "file_extension": ".py",
   "mimetype": "text/x-python",
   "name": "python",
   "nbconvert_exporter": "python",
   "pygments_lexer": "ipython3",
   "version": "3.8.8"
  }
 },
 "nbformat": 4,
 "nbformat_minor": 2
}
