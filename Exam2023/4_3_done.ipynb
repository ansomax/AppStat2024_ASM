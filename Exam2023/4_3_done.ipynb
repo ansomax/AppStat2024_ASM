{
 "cells": [
  {
   "cell_type": "code",
   "execution_count": 1,
   "metadata": {},
   "outputs": [
    {
     "name": "stderr",
     "output_type": "stream",
     "text": [
      "c:\\Users\\Niels\\anaconda3\\lib\\site-packages\\scipy\\__init__.py:138: UserWarning: A NumPy version >=1.16.5 and <1.23.0 is required for this version of SciPy (detected version 1.24.4)\n",
      "  warnings.warn(f\"A NumPy version >={np_minversion} and <{np_maxversion} is required for this version of \"\n"
     ]
    }
   ],
   "source": [
    "import numpy as np\n",
    "import matplotlib.pyplot as plt\n",
    "from iminuit import Minuit\n",
    "import seaborn as sns\n",
    "import sys\n",
    "import scipy.stats as sc\n",
    "import pandas as pd\n",
    "import ffl\n",
    "\n",
    "sys.path.append('../External_Functions')\n",
    "from ExternalFunctions import UnbinnedLH, Chi2Regression, BinnedLH\n",
    "from ExternalFunctions import nice_string_output, add_text_to_ax  # Useful functions to print fit results on figure\n",
    "\n",
    "sns.set()\n",
    "sns.set_context(\"paper\", font_scale=1.4)\n",
    "sns.set_style(\"ticks\")\n",
    "\n",
    "colors = sns.color_palette('deep', 10, desat = 1)\n",
    "sns.set_palette(colors)\n",
    "plt.rcParams['axes.grid'] = True\n",
    "plt.rcParams['axes.grid.axis'] = 'y'\n",
    "plt.rcParams['axes.grid.which'] = 'major'\n",
    "plt.rcParams['grid.linestyle'] = '--'\n",
    "plt.rcParams['grid.linewidth'] = 2\n",
    "plt.rcParams['figure.figsize'] = (16, 9)\n"
   ]
  },
  {
   "cell_type": "markdown",
   "metadata": {},
   "source": [
    "# 4.3 - Smartphone producer claims that their phones (A) have a battery lifetime that is significantly longer than that of a rival phone (B). You measure the lifetime of the batteries (in hours) five times for each brand (table below). Test if the claim is reasonable.\n",
    "\n",
    "For finding out wether or not the battery lifetimes are signifficantly different I used a Two-sample test:\n",
    "\n",
    "$$ z = \\frac{\\hat{\\mu_1} - \\hat{\\mu_2}}{\\sqrt{\\hat{\\sigma}_{\\mu, 1}^2 + \\hat{\\sigma}_{\\mu, 2}^2}} $$\n",
    "\n",
    "Notice the hats denoting the estimator of $\\mu$ and $\\sigma$ as we dont have that many datapoints. Notice aswell, that the errors are the standard error on the mean.\n",
    "\n",
    "Fist of all the null hypothesis:\n",
    "\n",
    "$H_0$: There is no significant difference between sample A and sample B\n",
    "\n",
    "From the z-value i calculated a p-value by evaluating z in the normal normal survival function.\n",
    "I got a p-value of:\n",
    "\n",
    "$$ p = 0.35 $$\n",
    "\n",
    "which mean that with a significance level of 95% we cannot reject our null hypothesis (i.e. the battery lifetime is not significantly different). The p-value states that ~$35\\%$ og the time, we will get a z-value like this or worse here meaning lower."
   ]
  },
  {
   "cell_type": "code",
   "execution_count": 5,
   "metadata": {},
   "outputs": [
    {
     "name": "stdout",
     "output_type": "stream",
     "text": [
      "0.37303955263292005 0.35455950323495133\n"
     ]
    }
   ],
   "source": [
    "A = np.array([28.9, 26.4, 22.8, 27.3, 25.9])\n",
    "B = np.array([22.4, 21.3, 25.1, 24.8, 22.5])\n",
    "\n",
    "def est_val(x):\n",
    "    mean_est = np.sum(x)/(len(x)-1)\n",
    "    sig_est = np.sqrt(np.sum((x-mean_est)**2)/(len(x)-1))\n",
    "    SEM = sig_est/np.sqrt(len(x))\n",
    "    return mean_est, sig_est, SEM\n",
    "\n",
    "mean_a, sig_a, SEM_a= est_val(A)\n",
    "mean_b, sig_b, SEM_a = est_val(B)\n",
    "\n",
    "z = abs(mean_a-mean_b)/np.sqrt(sig_a**2+sig_b**2)\n",
    "p = sc.norm.sf(z)\n",
    "print(z, p)\n",
    "\n",
    "if p < 0.05:\n",
    "    print(\"There is a significant difference between A and B.\")\n",
    "else:\n",
    "    print(\"There is no significant difference between A and B.\")"
   ]
  },
  {
   "cell_type": "code",
   "execution_count": null,
   "metadata": {},
   "outputs": [],
   "source": []
  }
 ],
 "metadata": {
  "kernelspec": {
   "display_name": "base",
   "language": "python",
   "name": "python3"
  },
  "language_info": {
   "codemirror_mode": {
    "name": "ipython",
    "version": 3
   },
   "file_extension": ".py",
   "mimetype": "text/x-python",
   "name": "python",
   "nbconvert_exporter": "python",
   "pygments_lexer": "ipython3",
   "version": "3.8.8"
  }
 },
 "nbformat": 4,
 "nbformat_minor": 2
}
