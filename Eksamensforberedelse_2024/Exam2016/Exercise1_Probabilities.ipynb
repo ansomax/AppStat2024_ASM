{
 "cells": [
  {
   "cell_type": "code",
   "execution_count": 2,
   "metadata": {},
   "outputs": [],
   "source": [
    "import numpy as np\n",
    "import matplotlib.pyplot as plt\n",
    "import scipy as sc"
   ]
  },
  {
   "cell_type": "markdown",
   "metadata": {},
   "source": [
    "### 1"
   ]
  },
  {
   "cell_type": "markdown",
   "metadata": {},
   "source": [
    "#### 1.1"
   ]
  },
  {
   "cell_type": "markdown",
   "metadata": {},
   "source": [
    "##### 1.1.1"
   ]
  },
  {
   "cell_type": "markdown",
   "metadata": {},
   "source": [
    "In the first game (1/6) would be the probability of getting one 6. (1/6)^4 is the probability of getting 4 6's, so this is no use for us. We must calculate the probability of not getting a single 6. This is (5/6)^4. 1-(5/6)^4 will then be the opposite of that, namely the probability of getting one 6."
   ]
  },
  {
   "cell_type": "code",
   "execution_count": 3,
   "metadata": {},
   "outputs": [
    {
     "name": "stdout",
     "output_type": "stream",
     "text": [
      "0.5177469135802468\n"
     ]
    }
   ],
   "source": [
    "p_no_6 = (5/6)**4\n",
    "\n",
    "p_1_6 = 1-p_no_6\n",
    "\n",
    "print(p_1_6)\n"
   ]
  },
  {
   "cell_type": "markdown",
   "metadata": {},
   "source": [
    "##### 1.1.2"
   ]
  },
  {
   "cell_type": "markdown",
   "metadata": {},
   "source": [
    "In the second game you get 24 rolls, and you have to get 2 6's on one of the 24 rolls. The probability of getting 2 6's on one roll is (1/6)^2. Now, the probability of not getting any two 6'ere is ((1/6)^2)^24. The probability of doing it one time is 1 - this number."
   ]
  },
  {
   "cell_type": "code",
   "execution_count": 4,
   "metadata": {},
   "outputs": [
    {
     "data": {
      "text/plain": [
       "0.4914038761309034"
      ]
     },
     "execution_count": 4,
     "metadata": {},
     "output_type": "execute_result"
    }
   ],
   "source": [
    "p_pair = (1/6)**2\n",
    "\n",
    "p_no_pair_in_24_rolls = (1-p_pair)**24\n",
    "\n",
    "p_1_pair_in_24_rolls = 1-p_no_pair_in_24_rolls\n",
    "\n",
    "p_1_pair_in_24_rolls"
   ]
  },
  {
   "cell_type": "markdown",
   "metadata": {},
   "source": [
    "#### 1.2"
   ]
  },
  {
   "cell_type": "markdown",
   "metadata": {},
   "source": [
    "##### 1.2.1"
   ]
  },
  {
   "cell_type": "markdown",
   "metadata": {},
   "source": [
    "An experiment runs for 1730 days, and each day there is an average of 18.9 background events. This is a rate over a given interval of time (events pr. day in an interval of 1730 days), so it is a Poisson distribution, with $\\lambda $ = 18.9, $\\sigma$ = $\\sqrt{18.9}$. "
   ]
  },
  {
   "cell_type": "markdown",
   "metadata": {},
   "source": [
    "##### 1.2.2"
   ]
  },
  {
   "cell_type": "markdown",
   "metadata": {},
   "source": [
    "Would it be a statistically significant anomally if we saw a number of 42 background events?"
   ]
  },
  {
   "cell_type": "code",
   "execution_count": 16,
   "metadata": {},
   "outputs": [
    {
     "name": "stdout",
     "output_type": "stream",
     "text": [
      "The probability of getting 42 background events is: 0.000002\n",
      "If our cutoff for significance is 0.05, as is custom, then this is significant. \n",
      " Meaning, this is a statitically significant excess of background events, and should be investigated.\n"
     ]
    }
   ],
   "source": [
    "#to figure this out we create a poission distribution with lambda = 18.9, and figure out the pmf of\n",
    "#getting exactly 42 in this distribution\n",
    "\n",
    "prob_42 = sc.stats.poisson.pmf(42, 18.9)\n",
    "\n",
    "print(f'The probability of getting 42 background events is: {prob_42:.6f}')\n",
    "print('If our cutoff for significance is 0.05, as is custom, then this is significant. \\n Meaning, this is a statitically significant excess of background events, and should be investigated.')"
   ]
  },
  {
   "cell_type": "markdown",
   "metadata": {},
   "source": [
    "#### 1.3"
   ]
  },
  {
   "cell_type": "markdown",
   "metadata": {},
   "source": [
    "##### 1.3.1"
   ]
  },
  {
   "cell_type": "markdown",
   "metadata": {},
   "source": [
    "Assuming the distribution of danish womens' heights follows a gaussian distribution with $\\mu$ = 1.68 and $\\sigma$ = 0.06, then what fraction of danish women are 1.85 m tall or more?"
   ]
  },
  {
   "cell_type": "code",
   "execution_count": 21,
   "metadata": {},
   "outputs": [
    {
     "name": "stdout",
     "output_type": "stream",
     "text": [
      "The percentage of women taller than or exactly 1.85m is: 0.002303\n"
     ]
    }
   ],
   "source": [
    "gauss_womens_heights = sc.stats.norm(1.68, 0.06)\n",
    "\n",
    "percentage_1_85 = 1-gauss_womens_heights.cdf(1.85)\n",
    "\n",
    "print(f'The percentage of women taller than or exactly 1.85m is: {percentage_1_85:.6f}')"
   ]
  },
  {
   "cell_type": "markdown",
   "metadata": {},
   "source": [
    "##### 1.3.2"
   ]
  },
  {
   "cell_type": "markdown",
   "metadata": {},
   "source": [
    "Finding the average height of the 20% tallest women"
   ]
  },
  {
   "cell_type": "code",
   "execution_count": 27,
   "metadata": {},
   "outputs": [
    {
     "data": {
      "text/plain": [
       "(np.float64(nan), np.float64(nan))"
      ]
     },
     "execution_count": 27,
     "metadata": {},
     "output_type": "execute_result"
    }
   ],
   "source": [
    "women_max_height = gauss_womens_heights.ppf(0.99)\n",
    "\n",
    "women_min_max_height = gauss_womens_heights.ppf(0.8)\n",
    "\n",
    "heights = [i for i in np.linspace(women_min_max_height, women_max_height, 100)]\n",
    "probs = [gauss_womens_heights.ppf(i) for i in heights]\n",
    "\n",
    "mean_tall_women = np.mean(heights, weights\n",
    "\n",
    "mean_tall_women, sig_tall_women = weighted_mean(heights,probs)\n",
    "\n",
    "mean_tall_women, sig_tall_women"
   ]
  },
  {
   "cell_type": "code",
   "execution_count": null,
   "metadata": {},
   "outputs": [],
   "source": []
  }
 ],
 "metadata": {
  "kernelspec": {
   "display_name": "Python 3",
   "language": "python",
   "name": "python3"
  },
  "language_info": {
   "codemirror_mode": {
    "name": "ipython",
    "version": 3
   },
   "file_extension": ".py",
   "mimetype": "text/x-python",
   "name": "python",
   "nbconvert_exporter": "python",
   "pygments_lexer": "ipython3",
   "version": "3.9.6"
  }
 },
 "nbformat": 4,
 "nbformat_minor": 2
}
