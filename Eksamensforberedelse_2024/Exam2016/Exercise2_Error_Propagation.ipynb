{
 "cells": [
  {
   "cell_type": "code",
   "execution_count": 33,
   "metadata": {},
   "outputs": [],
   "source": [
    "import numpy as np\n",
    "import matplotlib.pyplot as plt\n",
    "from sympy import *\n",
    "import scipy as scp\n",
    "from iminuit import Minuit, cost\n",
    "from IPython.core.display import Latex\n",
    "import random\n",
    "import pandas as pd\n",
    "import statsmodels.api as sm \n",
    "from statsmodels.formula.api import ols \n",
    "from IPython.core.display import Latex\n",
    "\n",
    "def lprint(*args,**kwargs):\n",
    "    \"\"\"Pretty print arguments as LaTeX using IPython display system \n",
    "    \n",
    "    Parameters\n",
    "    ----------\n",
    "    args : tuple \n",
    "        What to print (in LaTeX math mode)\n",
    "    kwargs : dict \n",
    "        optional keywords to pass to `display` \n",
    "    \"\"\"\n",
    "    display(Latex('$$'+' '.join(args)+'$$'),**kwargs)"
   ]
  },
  {
   "cell_type": "markdown",
   "metadata": {},
   "source": [
    "### Exercise 2"
   ]
  },
  {
   "cell_type": "markdown",
   "metadata": {},
   "source": [
    "#### 2.1"
   ]
  },
  {
   "cell_type": "markdown",
   "metadata": {},
   "source": [
    "##### 2.1.1"
   ]
  },
  {
   "cell_type": "markdown",
   "metadata": {},
   "source": [
    "The relative error is a measure of the sigma of a variable, divided by it's size. \n",
    "\n",
    "here it is: $\\frac{\\sigma_{r}}{r}$ and $\\frac{\\sigma_{L}}{L}$. The r is squared, so relative to each other, the r carries a factor 2 more relative error, making the relation: $2 \\cdot \\frac{\\sigma_{r}}{r}$ = $\\frac{\\sigma_{L}}{L}$ . "
   ]
  },
  {
   "cell_type": "markdown",
   "metadata": {},
   "source": [
    "##### 2.1.2"
   ]
  },
  {
   "cell_type": "code",
   "execution_count": 34,
   "metadata": {},
   "outputs": [],
   "source": [
    "measurements = np.array([3.61, 2.00, 3.90, 2.23, 2.32, 2.48, 2.43, 3.86, 4.43, 3.78])*10**2\n"
   ]
  },
  {
   "cell_type": "markdown",
   "metadata": {},
   "source": [
    "Having no uncertainties on the measures, the best way to estimate the uncertainties is to assign them all the stuandard deviation from the mean. "
   ]
  },
  {
   "cell_type": "code",
   "execution_count": 56,
   "metadata": {},
   "outputs": [
    {
     "data": {
      "text/latex": [
       "$$\\mu = 310 \\pm 27$$"
      ],
      "text/plain": [
       "<IPython.core.display.Latex object>"
      ]
     },
     "metadata": {},
     "output_type": "display_data"
    }
   ],
   "source": [
    "mu_v = np.mean(measurements)\n",
    "sig_v = np.std(measurements)/np.sqrt(len(measurements)) #error on the mean\n",
    "\n",
    "lprint(r'\\mu = %.0f \\pm %.0f' % (mu_v, sig_v))\n"
   ]
  },
  {
   "cell_type": "code",
   "execution_count": 49,
   "metadata": {},
   "outputs": [
    {
     "data": {
      "text/latex": [
       "$$E_{kin} = 0.5 m v^{2}$$"
      ],
      "text/plain": [
       "<IPython.core.display.Latex object>"
      ]
     },
     "metadata": {},
     "output_type": "display_data"
    },
    {
     "data": {
      "text/latex": [
       "$$\\sigma_{E kin} = \\sqrt{1.0 m^{2} \\sigma_{v}^{2} v^{2} + 0.25 \\sigma_{m}^{2} v^{4}}$$"
      ],
      "text/plain": [
       "<IPython.core.display.Latex object>"
      ]
     },
     "metadata": {},
     "output_type": "display_data"
    },
    {
     "data": {
      "text/latex": [
       "$$E_kin = (404.6623 \\pm 73.6129)$$"
      ],
      "text/plain": [
       "<IPython.core.display.Latex object>"
      ]
     },
     "metadata": {},
     "output_type": "display_data"
    },
    {
     "data": {
      "text/latex": [
       "$$\\sigma_m = 24.0870$$"
      ],
      "text/plain": [
       "<IPython.core.display.Latex object>"
      ]
     },
     "metadata": {},
     "output_type": "display_data"
    },
    {
     "data": {
      "text/latex": [
       "$$\\sigma_v = 69.5605$$"
      ],
      "text/plain": [
       "<IPython.core.display.Latex object>"
      ]
     },
     "metadata": {},
     "output_type": "display_data"
    }
   ],
   "source": [
    "from IPython.core.display import Latex\n",
    "\n",
    "mu_m = 8.4e-3#konverteret til kg\n",
    "sig_m = 0.5e-3 \n",
    "\n",
    "\n",
    "#E_kin = 0.5 * m * mean_v**2\n",
    "\n",
    "#doing latex \n",
    "E_kin, m, v = symbols('E_kin, m, v')\n",
    "d_E_kin, d_m, d_v = symbols('sigma_E_kin, sigma_m, sigma_v')\n",
    "\n",
    "E_kin = 0.5 * m * v**2\n",
    "\n",
    "lprint(latex(Eq(symbols('E_kin'),E_kin)))\n",
    "\n",
    "d_E_kin = sqrt(E_kin.diff(m)**2 * d_m**2 + E_kin.diff(v)**2 * d_v**2)\n",
    "d_m0 = sqrt(E_kin.diff(m)**2 * d_m**2)\n",
    "d_v0 = sqrt(E_kin.diff(v)**2 * d_v**2)\n",
    "\n",
    "lprint(latex(Eq(symbols('sigma_E_kin'),d_E_kin)))\n",
    "\n",
    "fE_kin = lambdify((m, v, d_m, d_v), E_kin)\n",
    "fd_E_kin = lambdify((m, v, d_m, d_v), d_E_kin)\n",
    "fd_m = lambdify((m, v, d_m, d_v), d_m0)\n",
    "fd_v = lambdify((m, v, d_m, d_v), d_v0)\n",
    "\n",
    "vm, vd_m = mu_m, sig_m\n",
    "vmean_v, vd_mean_v = mu_v, sig_v\n",
    "\n",
    "vE_kin = fE_kin(vm, vmean_v, vd_m, vd_mean_v)\n",
    "vd_E_kin = fd_E_kin(vm, vmean_v, vd_m, vd_mean_v)\n",
    "vd_m = fd_m(vm, vmean_v, vd_m, vd_mean_v)\n",
    "vd_mean_v = fd_v(vm, vmean_v, vd_m, vd_mean_v)\n",
    "\n",
    "lprint(fr'E_kin = ({vE_kin:.4f} \\pm {vd_E_kin:.4f})')\n",
    "lprint(fr'\\sigma_m = {vd_m:.4f}')\n",
    "lprint(fr'\\sigma_v = {vd_mean_v:.4f}')\n",
    "\n",
    "\n",
    "\n",
    "#sig_E_kin = E_kin * np.sqrt((2*std/mean_v)**2 + (sig_m/m)**2) #dette virker kun lige her, ved udregning\n",
    "\n"
   ]
  },
  {
   "cell_type": "markdown",
   "metadata": {},
   "source": [
    "##### 2.1.3"
   ]
  },
  {
   "cell_type": "markdown",
   "metadata": {},
   "source": [
    "Which uncertainty dominates E_kin's uncertainty?\n",
    "\n"
   ]
  },
  {
   "cell_type": "markdown",
   "metadata": {},
   "source": [
    "Velocity dominates, 69 "
   ]
  },
  {
   "cell_type": "code",
   "execution_count": 58,
   "metadata": {},
   "outputs": [
    {
     "data": {
      "text/plain": [
       "83.0"
      ]
     },
     "execution_count": 58,
     "metadata": {},
     "output_type": "execute_result"
    }
   ],
   "source": [
    "#this is the fractional difference between them\n",
    "69.5605/24.0870\n",
    "#The additional number of measurements needed are then a factor\n",
    "(69.5605/24.0870)**2 #since the measurement error scales as sqrt(N)\n",
    "\n",
    "#Meaning that we need 8.3 times as many measurements to get the same error on the mean as we have on the velocity\n",
    "\n",
    "# Now we have 10, so we need:\n",
    "\n",
    "10 * 8.3 -10 #more measurements\n",
    "10 * 8.3 #total measurements\n"
   ]
  },
  {
   "cell_type": "code",
   "execution_count": null,
   "metadata": {},
   "outputs": [],
   "source": []
  },
  {
   "cell_type": "code",
   "execution_count": null,
   "metadata": {},
   "outputs": [],
   "source": []
  }
 ],
 "metadata": {
  "kernelspec": {
   "display_name": "Python 3",
   "language": "python",
   "name": "python3"
  },
  "language_info": {
   "codemirror_mode": {
    "name": "ipython",
    "version": 3
   },
   "file_extension": ".py",
   "mimetype": "text/x-python",
   "name": "python",
   "nbconvert_exporter": "python",
   "pygments_lexer": "ipython3",
   "version": "3.9.6"
  }
 },
 "nbformat": 4,
 "nbformat_minor": 2
}
