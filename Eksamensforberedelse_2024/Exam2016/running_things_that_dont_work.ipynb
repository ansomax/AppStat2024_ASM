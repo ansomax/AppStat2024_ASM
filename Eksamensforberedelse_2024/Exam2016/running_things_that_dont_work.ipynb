{
 "cells": [
  {
   "cell_type": "code",
   "execution_count": 8,
   "metadata": {},
   "outputs": [],
   "source": [
    "import numpy as np\n",
    "import matplotlib.pyplot as plt\n",
    "from sympy import *\n",
    "import scipy as scp\n",
    "from iminuit import Minuit, cost\n",
    "from IPython.core.display import Latex\n",
    "import random\n",
    "import pandas as pd\n",
    "import statsmodels.api as sm \n",
    "from statsmodels.formula.api import ols "
   ]
  },
  {
   "cell_type": "code",
   "execution_count": 11,
   "metadata": {},
   "outputs": [
    {
     "data": {
      "text/latex": [
       "$$E_{kin} = 0.5 m v^{2}$$"
      ],
      "text/plain": [
       "<IPython.core.display.Latex object>"
      ]
     },
     "metadata": {},
     "output_type": "display_data"
    },
    {
     "data": {
      "text/latex": [
       "$$\\sigma_{E kin} = \\sqrt{1.0 m^{2} \\sigma_{v}^{2} v^{2} + 0.25 \\sigma_{m}^{2} v^{4}}$$"
      ],
      "text/plain": [
       "<IPython.core.display.Latex object>"
      ]
     },
     "metadata": {},
     "output_type": "display_data"
    },
    {
     "data": {
      "text/latex": [
       "$$E_kin = (0.0011 \\pm 0.0004)$$"
      ],
      "text/plain": [
       "<IPython.core.display.Latex object>"
      ]
     },
     "metadata": {},
     "output_type": "display_data"
    },
    {
     "data": {
      "text/latex": [
       "$$\\sigma_m = 0.0005$$"
      ],
      "text/plain": [
       "<IPython.core.display.Latex object>"
      ]
     },
     "metadata": {},
     "output_type": "display_data"
    },
    {
     "data": {
      "text/latex": [
       "$$\\sigma_v = 0.1000$$"
      ],
      "text/plain": [
       "<IPython.core.display.Latex object>"
      ]
     },
     "metadata": {},
     "output_type": "display_data"
    }
   ],
   "source": [
    "mu_m = 8.4 * 10**-3 #konverteret til kg\n",
    "sig_m = 0.5 * 10**-3\n",
    "\n",
    "mu_v = 0.5\n",
    "sig_v = 0.1\n",
    "\n",
    "\n",
    "def lprint(*args,**kwargs):\n",
    "    \"\"\"Pretty print arguments as LaTeX using IPython display system \n",
    "    \n",
    "    Parameters\n",
    "    ----------\n",
    "    args : tuple \n",
    "        What to print (in LaTeX math mode)\n",
    "    kwargs : dict \n",
    "        optional keywords to pass to `display` \n",
    "    \"\"\"\n",
    "    display(Latex('$$'+' '.join(args)+'$$'),**kwargs)\n",
    "\n",
    "m = 8.4 * 10**-3 #konverteret til kg\n",
    "sig_m = 0.5 * 10**-3\n",
    "\n",
    "#E_kin = 0.5 * m * mean_v**2\n",
    "\n",
    "#doing latex \n",
    "E_kin, m, v = symbols('E_kin, m, v')\n",
    "d_E_kin, d_m, d_v = symbols('sigma_E_kin, sigma_m, sigma_v')\n",
    "\n",
    "E_kin = 0.5 * m * v**2\n",
    "\n",
    "lprint(latex(Eq(symbols('E_kin'),E_kin)))\n",
    "\n",
    "d_E_kin = sqrt(E_kin.diff(m)**2 * d_m**2 + E_kin.diff(v)**2 * d_v**2)\n",
    "d_m0 = sqrt(E_kin.diff(m)**2 * d_m**2)\n",
    "d_v0 = sqrt(E_kin.diff(v)**2 * d_v**2)\n",
    "\n",
    "lprint(latex(Eq(symbols('sigma_E_kin'),d_E_kin)))\n",
    "\n",
    "fE_kin = lambdify((m, v, d_m, d_v), E_kin)\n",
    "fd_E_kin = lambdify((m, v, d_m, d_v), d_E_kin)\n",
    "fd_m = lambdify((m, v, d_m, d_v), d_m)\n",
    "fd_v = lambdify((m, v, d_m, d_v), d_v)\n",
    "\n",
    "vm, vd_m = mu_m, sig_m\n",
    "vmean_v, vd_mean_v = mu_v, sig_v\n",
    "\n",
    "vE_kin = fE_kin(vm, vmean_v, vd_m, vd_mean_v)\n",
    "vd_E_kin = fd_E_kin(vm, vmean_v, vd_m, vd_mean_v)\n",
    "vd_m = fd_m(vm, vmean_v, vd_m, vd_mean_v)\n",
    "vd_v = fd_v(vm, vmean_v, vd_m, vd_mean_v)\n",
    "\n",
    "lprint(fr'E_kin = ({vE_kin:.4f} \\pm {vd_E_kin:.4f})')\n",
    "lprint(fr'\\sigma_m = {vd_m:.4f}')\n",
    "lprint(fr'\\sigma_v = {vd_v:.4f}')"
   ]
  },
  {
   "cell_type": "code",
   "execution_count": null,
   "metadata": {},
   "outputs": [],
   "source": []
  }
 ],
 "metadata": {
  "kernelspec": {
   "display_name": "Python 3",
   "language": "python",
   "name": "python3"
  },
  "language_info": {
   "codemirror_mode": {
    "name": "ipython",
    "version": 3
   },
   "file_extension": ".py",
   "mimetype": "text/x-python",
   "name": "python",
   "nbconvert_exporter": "python",
   "pygments_lexer": "ipython3",
   "version": "3.9.6"
  }
 },
 "nbformat": 4,
 "nbformat_minor": 2
}
