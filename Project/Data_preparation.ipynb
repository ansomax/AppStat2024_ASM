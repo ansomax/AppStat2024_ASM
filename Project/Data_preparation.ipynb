{
 "cells": [
  {
   "cell_type": "code",
   "execution_count": 1,
   "id": "97ca6e21-a2b7-4f71-88cf-49fafbc285fc",
   "metadata": {},
   "outputs": [],
   "source": [
    "from IPython.core.display import Latex\n",
    "from sympy import * \n",
    "import numpy as np\n",
    "import pandas as pd\n",
    "import matplotlib.pyplot as plt\n",
    "from iminuit import Minuit, cost\n",
    "from scipy import stats"
   ]
  },
  {
   "cell_type": "markdown",
   "id": "b01fc9dd-df23-4af8-8fa4-bb452adda866",
   "metadata": {},
   "source": [
    "## Function for Latex formatting and sympy"
   ]
  },
  {
   "cell_type": "code",
   "execution_count": 2,
   "id": "63a1c5a4-97be-4d60-8949-7d6436eb3c9b",
   "metadata": {},
   "outputs": [],
   "source": [
    "def lprint(*args,**kwargs):\n",
    "    \"\"\"Pretty print arguments as LaTeX using IPython display system \n",
    "    \n",
    "    Parameters\n",
    "    ----------\n",
    "    args : tuple \n",
    "        What to print (in LaTeX math mode)\n",
    "    kwargs : dict \n",
    "        optional keywords to pass to `display` \n",
    "    \"\"\"\n",
    "    display(Latex('$$'+' '.join(args)+'$$'),**kwargs)"
   ]
  },
  {
   "cell_type": "markdown",
   "id": "04420f7d-5796-4681-9a3b-1a7866beb16f",
   "metadata": {},
   "source": [
    "## Function for weighted mean"
   ]
  },
  {
   "cell_type": "code",
   "execution_count": 4,
   "id": "cd90a19e-b2e8-482e-9dea-487371654119",
   "metadata": {},
   "outputs": [],
   "source": [
    "def weighted_mean(vals,sigs):\n",
    "    values = np.array(vals)\n",
    "    uncertainties = np.array(sigs)\n",
    "\n",
    "    # Check if lengths match\n",
    "    if len(values) != len(uncertainties):\n",
    "        raise ValueError(\"Values and uncertainties must have the same length.\")\n",
    "    # Check for zero uncertainties to avoid division errors\n",
    "    if np.any(uncertainties <= 0):\n",
    "        raise ValueError(\"Uncertainties must be positive and non-zero.\")\n",
    "\n",
    "    # Calculate the weights\n",
    "    weights = 1 / (uncertainties ** 2)\n",
    "    # Calculate the weighted mean\n",
    "    weighted_mean = np.sum(weights * values) / np.sum(weights)\n",
    "    # Calculate the uncertainty of the weighted mean\n",
    "    mean_uncertainty = np.sqrt(1 / np.sum(weights))\n",
    "    \n",
    "    return weighted_mean, mean_uncertainty"
   ]
  },
  {
   "cell_type": "markdown",
   "id": "92a82362-f354-40fd-8992-88b32f100c07",
   "metadata": {},
   "source": [
    "## Error propagation functions"
   ]
  },
  {
   "cell_type": "code",
   "execution_count": 5,
   "id": "780f6b2e-5977-472a-9245-658cada5c52f",
   "metadata": {},
   "outputs": [],
   "source": [
    "#Error propagation for theta calculation\n",
    "def error_prop_theta(Length,Height,sigL,sigH):\n",
    "    # Define variables:\n",
    "    L,H = symbols(\"L, H\")\n",
    "    dL,dH, dTheta = symbols(\"sigma_L, sigma_H, sigma_theta\")\n",
    "    Theta = symbols(\"theta\")\n",
    "    \n",
    "    # Perimeter:\n",
    "    # Define relation, and print:\n",
    "    Theta = atan(H/L)\n",
    "    lprint(latex(Eq(symbols('theta'),Theta)))\n",
    "    \n",
    "    # Calculate uncertainty and print:\n",
    "    dTheta = sqrt((Theta.diff(L) * dL)**2 + (Theta.diff(H) * dH)**2)\n",
    "    lprint(latex(Eq(symbols('sigma_theta'), dTheta)))\n",
    "    \n",
    "    # Turn expression into numerical functions \n",
    "    fTheta = lambdify((L,H),Theta)\n",
    "    fdTheta = lambdify((L,dL,H,dH),dTheta)\n",
    "    \n",
    "    # Define values and their errors\n",
    "    vL, vdL = Length,sigL\n",
    "    vH, vdH = Height,sigH\n",
    "    \n",
    "    # Numerically evaluate expressions and print \n",
    "    vTheta = fTheta(vL,vH)\n",
    "    vdTheta = fdTheta(vL,vdL,vH,vdH)\n",
    "    lprint(fr'theta = ({vTheta:.4f} \\pm {vdTheta:.4f})')\n",
    "\n",
    "    return vTheta, vdTheta\n",
    "\n",
    "#Error propagation for pendulum length calculation\n",
    "def error_prop_L(mu_Ht,mu_He,mu_Hl,sig1,sig2,sig3):\n",
    "    # Define variables:\n",
    "    Ht,He,Hl = symbols(\"Ht,He,Hl\")\n",
    "    dHt,dHe,dHl, dL = symbols(\"sigma_Ht, sigma_He, sigma_Hl,sigma_L\")\n",
    "    \n",
    "    # Define relation, and print:\n",
    "    L = Ht-He-Hl/2\n",
    "    lprint(latex(Eq(symbols('L'),L)))\n",
    "    \n",
    "    # Calculate uncertainty and print:\n",
    "    dL = sqrt((L.diff(Ht) * dHt)**2 + (L.diff(He) * dHe)**2 + (L.diff(Hl) * dHl)**2)\n",
    "    lprint(latex(Eq(symbols('sigma_L'), dL)))\n",
    "    \n",
    "    # Turn expression into numerical functions \n",
    "    fL = lambdify((Ht,He,Hl),L)\n",
    "    fdL = lambdify((Ht,dHt,He,dHe,Hl,dHl),dL)\n",
    "    \n",
    "    # Define values and their errors\n",
    "    vHt, vdHt = mu_Ht,sig1\n",
    "    vHe, vdHe = mu_He,sig2\n",
    "    vHl, vdHl = mu_Hl,sig3\n",
    "    \n",
    "    # Numerically evaluate expressions and print \n",
    "    vL = fL(vHt,vHe,vHl)\n",
    "    vdL = fdL(vHt,vdHt,vHe,vdHe,vHl,vdHl)\n",
    "    lprint(fr'L = ({vL:.4f} \\pm {vdL:.4f})')\n",
    "\n",
    "    return vL, vdL\n",
    "\n",
    "def error_prop_radians(angle,sigangle):\n",
    "    # Define variables:\n",
    "    V,Theta = symbols(\"V,theta\")\n",
    "    dTheta,dV = symbols(\"sigma_theta, sigma_V\")\n",
    "    \n",
    "    # Perimeter:\n",
    "    # Define relation, and print:\n",
    "    V = Theta*(pi/180)\n",
    "    lprint(latex(Eq(symbols('V'),V)))\n",
    "    \n",
    "    # Calculate uncertainty and print:\n",
    "    dV = sqrt(V.diff(Theta) * dTheta)**2\n",
    "    lprint(latex(Eq(symbols('sigma_V'), dV)))\n",
    "    \n",
    "    # Turn expression into numerical functions \n",
    "    fV = lambdify((Theta),V)\n",
    "    fdV = lambdify((Theta,dTheta),dV)\n",
    "    \n",
    "    # Define values and their errors\n",
    "    vTheta, vdTheta = angle,sigangle\n",
    "    \n",
    "    # Numerically evaluate expressions and print \n",
    "    vV = fV(vTheta)\n",
    "    vdV = fdV(vTheta,vdTheta)\n",
    "    lprint(fr'Radians = ({vV:.4f} \\pm {vdV:.4f})')\n",
    "\n",
    "    return vV, vdV"
   ]
  },
  {
   "cell_type": "markdown",
   "id": "5e150be9-9249-45d6-8e30-a93436cdeb9f",
   "metadata": {},
   "source": [
    "## Function to extract midpoint values for t_pass (boi)"
   ]
  },
  {
   "cell_type": "code",
   "execution_count": 6,
   "id": "7a45d0ab-4944-4520-a941-186295c7b9c7",
   "metadata": {},
   "outputs": [],
   "source": [
    "def find_midpoints(time, voltage, show_plot=True):\n",
    "    \"\"\"Find timing of ball crossings\"\"\"\n",
    "    tops = []\n",
    "    t_pass = []\n",
    "    t_pass_sigma = []\n",
    "\n",
    "    # pass sets of peaks into another list\n",
    "    for i,y in enumerate(voltage):\n",
    "        if y > 4.5:\n",
    "            tops.append(time[i])    \n",
    "    \n",
    "    tops.append(50) # used to define end of last peak\n",
    "    \n",
    "    # masking different tops to different lists nested in an assymetrical list\n",
    "    midpoint_lists = []\n",
    "    past = tops[0]\n",
    "    values = []\n",
    "\n",
    "    for i in tops:\n",
    "        \n",
    "        if i - past < 0.03:\n",
    "            values.append(i)\n",
    "        \n",
    "        if i - past > 0.03:\n",
    "            midpoint_lists.append(values)\n",
    "            values = []\n",
    "\n",
    "        past = i\n",
    "\n",
    "    # Assumption: peak is symmetric around top/midpoint value,\n",
    "    # so mean is median is the best measure of when ball passes sensor\n",
    "    for i in midpoint_lists:\n",
    "\n",
    "        y = np.array(i)\n",
    "\n",
    "        t_pass.append(np.mean(y))\n",
    "\n",
    "        #using simple np.std func to determine uncertainty on mean without ddof\n",
    "        # (i think ddof is set to some standard value)\n",
    "        t_pass_sigma.append(np.std(y))\n",
    "\n",
    "    return t_pass, t_pass_sigma\n"
   ]
  },
  {
   "cell_type": "markdown",
   "id": "65a304c0-4c6c-41d3-b3b4-d829cf2d942e",
   "metadata": {},
   "source": [
    "## Load raw data"
   ]
  },
  {
   "cell_type": "code",
   "execution_count": 7,
   "id": "8234030f-10a1-430d-aa30-5274f24fcee1",
   "metadata": {},
   "outputs": [
    {
     "name": "stdout",
     "output_type": "stream",
     "text": [
      "['L', 'H', 'Theta1', 'Theta2', 'drail', 'dball']\n",
      "['Gate1', 'Gate2', 'Gate3', 'Gate4']\n"
     ]
    }
   ],
   "source": [
    "boi_setup_raw = pd.read_csv('BallOnIncline_setup_raw.csv')\n",
    "boi_gates_raw = pd.read_csv('BallOnIncline_gates_raw.csv')\n",
    "pend_setup_raw = pd.read_csv('Pendulum_setup_raw.csv')\n",
    "\n",
    "exp_all = pd.read_csv('boi_Exp_all.csv')\n",
    "exps = list(exp_all.columns)[1:]\n",
    "time = np.array(exp_all['Time'])+0.5\n",
    "\n",
    "boi_parameters = [list(boi_setup_raw.columns)[i] for i in np.arange(0,len(list(boi_setup_raw.columns)),2)]\n",
    "pend_parameters = [list(pend_setup_raw.columns)[i] for i in np.arange(0,len(list(pend_setup_raw.columns)),2)]\n",
    "gates = list(boi_gates_raw.columns)[0:-1]\n",
    "print(boi_parameters)\n",
    "print(gates)"
   ]
  },
  {
   "cell_type": "markdown",
   "id": "de77d5a5-af5e-48ec-891b-71489f9cb7d2",
   "metadata": {},
   "source": [
    "## Prepare boi data"
   ]
  },
  {
   "cell_type": "code",
   "execution_count": 8,
   "id": "f3dad9ac-bac0-429a-829b-5e769912d0b8",
   "metadata": {},
   "outputs": [
    {
     "name": "stdout",
     "output_type": "stream",
     "text": [
      "Measurements inconsistent for L. Using standard deviation of measurements as error on the mean\n",
      "Measurements inconsistent for H. Using standard deviation of measurements as error on the mean\n",
      "Measurements inconsistent for dball. Using standard deviation of measurements as error on the mean\n"
     ]
    },
    {
     "data": {
      "text/latex": [
       "$$\\theta = \\operatorname{atan}{\\left(\\frac{H}{L} \\right)}$$"
      ],
      "text/plain": [
       "<IPython.core.display.Latex object>"
      ]
     },
     "metadata": {},
     "output_type": "display_data"
    },
    {
     "data": {
      "text/latex": [
       "$$\\sigma_{\\theta} = \\sqrt{\\frac{H^{2} \\sigma_{L}^{2}}{L^{4} \\left(\\frac{H^{2}}{L^{2}} + 1\\right)^{2}} + \\frac{\\sigma_{H}^{2}}{L^{2} \\left(\\frac{H^{2}}{L^{2}} + 1\\right)^{2}}}$$"
      ],
      "text/plain": [
       "<IPython.core.display.Latex object>"
      ]
     },
     "metadata": {},
     "output_type": "display_data"
    },
    {
     "data": {
      "text/latex": [
       "$$theta = (0.2577 \\pm 0.0020)$$"
      ],
      "text/plain": [
       "<IPython.core.display.Latex object>"
      ]
     },
     "metadata": {},
     "output_type": "display_data"
    },
    {
     "data": {
      "text/latex": [
       "$$V = \\frac{\\pi \\theta}{180}$$"
      ],
      "text/plain": [
       "<IPython.core.display.Latex object>"
      ]
     },
     "metadata": {},
     "output_type": "display_data"
    },
    {
     "data": {
      "text/latex": [
       "$$\\sigma_{V} = \\frac{\\pi \\sigma_{\\theta}}{180}$$"
      ],
      "text/plain": [
       "<IPython.core.display.Latex object>"
      ]
     },
     "metadata": {},
     "output_type": "display_data"
    },
    {
     "data": {
      "text/latex": [
       "$$Radians = (0.2553 \\pm 0.0036)$$"
      ],
      "text/plain": [
       "<IPython.core.display.Latex object>"
      ]
     },
     "metadata": {},
     "output_type": "display_data"
    },
    {
     "data": {
      "text/latex": [
       "$$V = \\frac{\\pi \\theta}{180}$$"
      ],
      "text/plain": [
       "<IPython.core.display.Latex object>"
      ]
     },
     "metadata": {},
     "output_type": "display_data"
    },
    {
     "data": {
      "text/latex": [
       "$$\\sigma_{V} = \\frac{\\pi \\sigma_{\\theta}}{180}$$"
      ],
      "text/plain": [
       "<IPython.core.display.Latex object>"
      ]
     },
     "metadata": {},
     "output_type": "display_data"
    },
    {
     "data": {
      "text/latex": [
       "$$Radians = (0.2629 \\pm 0.0036)$$"
      ],
      "text/plain": [
       "<IPython.core.display.Latex object>"
      ]
     },
     "metadata": {},
     "output_type": "display_data"
    },
    {
     "name": "stdout",
     "output_type": "stream",
     "text": [
      "Measurements inconsistent for Gate1. Using standard deviation of measurements as error on the mean\n",
      "Measurements inconsistent for Gate2. Using standard deviation of measurements as error on the mean\n",
      "Measurements inconsistent for Gate3. Using standard deviation of measurements as error on the mean\n",
      "Measurements inconsistent for Gate4. Using standard deviation of measurements as error on the mean\n"
     ]
    }
   ],
   "source": [
    "#Weighted means and uncertainties of key parameters for boi\n",
    "boi_weighted_means = {}\n",
    "\n",
    "for param in boi_parameters:\n",
    "    vals = boi_setup_raw[param]\n",
    "    vals = vals[vals>0]\n",
    "    sigs = boi_setup_raw[f'{param}_sig']\n",
    "    sigs = sigs[sigs>0]\n",
    "    mean,sig = weighted_mean(vals,sigs)\n",
    "\n",
    "    #Check for consistency\n",
    "    ind_max = 0\n",
    "    ind_min = 0\n",
    "    max_el = vals[0]\n",
    "    min_el = vals[0]\n",
    "    for i,v in enumerate(vals):\n",
    "        if v>max_el:\n",
    "            max_el = v\n",
    "            ind_max = i\n",
    "        if v<min_el:\n",
    "            min_el = v\n",
    "            ind_min = i\n",
    "            \n",
    "    max_val,max_sig = [max_el,sigs[ind_max]]\n",
    "    min_val,min_sig = [min_el,sigs[ind_min]]\n",
    "\n",
    "    if max_val-max_sig*2 < min_val+min_sig*2:\n",
    "        sig = sig\n",
    "    else: \n",
    "        sig = np.std(vals)\n",
    "        print(f'Measurements inconsistent for {param}. Using standard deviation of measurements as error on the mean')\n",
    "    boi_weighted_means[param] = [mean,sig]\n",
    "\n",
    "weighted_means_df = pd.DataFrame.from_dict(boi_weighted_means)\n",
    "\n",
    "#Calculate theta from L and H, calculate theta in radians and caluclate mean theta\n",
    "vTheta, vdTheta = error_prop_theta(weighted_means_df['L'][0],weighted_means_df['H'][0],\n",
    "                                   weighted_means_df['L'][1],weighted_means_df['H'][1])\n",
    "weighted_means_df['Theta3'] = [vTheta,vdTheta]\n",
    "\n",
    "for theta in ['Theta1','Theta2']:\n",
    "    radian, radian_sig = error_prop_radians(weighted_means_df[theta][0],weighted_means_df[theta][1])\n",
    "    weighted_means_df.loc[0,theta] = radian\n",
    "    weighted_means_df.loc[1,theta] = radian_sig\n",
    "\n",
    "#Calculate mean gate distances\n",
    "for gate in gates:\n",
    "    vals = boi_gates_raw[gate]\n",
    "    sigs = boi_gates_raw['Sig']\n",
    "    mean,sig = weighted_mean(vals,sigs)\n",
    "\n",
    "    #Check for consistency\n",
    "    ind_max = 0\n",
    "    ind_min = 0\n",
    "    max_el = vals[0]\n",
    "    min_el = vals[0]\n",
    "    for i,v in enumerate(vals):\n",
    "        if v>max_el:\n",
    "            max_el = v\n",
    "            ind_max = i\n",
    "        if v<min_el:\n",
    "            min_el = v\n",
    "            ind_min = i\n",
    "            \n",
    "    max_val,max_sig = [max_el,sigs[ind_max]]\n",
    "    min_val,min_sig = [min_el,sigs[ind_min]]\n",
    "\n",
    "    if max_val-max_sig*2 < min_val+min_sig*2:\n",
    "        sig = sig\n",
    "    else: \n",
    "        sig = np.std(vals)\n",
    "        print(f'Measurements inconsistent for {gate}. Using standard deviation of measurements as error on the mean')\n",
    "    weighted_means_df[gate] = [mean,sig]\n",
    "\n",
    "weighted_means_df.to_csv('boi_weighted_means.csv',index=True)"
   ]
  },
  {
   "cell_type": "code",
   "execution_count": 9,
   "id": "1932f5ba-081d-4321-b9d4-5c4dc63e6899",
   "metadata": {},
   "outputs": [
    {
     "name": "stdout",
     "output_type": "stream",
     "text": [
      "(5, 2)\n"
     ]
    }
   ],
   "source": [
    "#Calculate gate timings from experiment direction 1 and 2.\n",
    "exp_ts = {}\n",
    "exp_ts_sig = {}\n",
    "for exp in exps:\n",
    "    voltage = np.array(exp_all[exp])\n",
    "    t_pass,t_pass_sig = find_midpoints(time, voltage)\n",
    "    t_pass = t_pass[:]-t_pass[0]\n",
    "    exp_ts[exp] = t_pass\n",
    "    exp_ts_sig[exp] = t_pass_sig\n",
    "\n",
    "exp_ts_df = pd.DataFrame.from_dict(exp_ts)\n",
    "exp_ts_sig_df = pd.DataFrame.from_dict(exp_ts_sig)\n",
    "\n",
    "exp1_gate_ts = []\n",
    "exp2_gate_ts = []\n",
    "\n",
    "for T in range(0,5):\n",
    "    vals = np.array(exp_ts_df.iloc[T])[0:5]\n",
    "    sigs = exp_ts_sig_df.iloc[T][0:5]\n",
    "    mean,sig = weighted_mean(vals,sigs)\n",
    "    exp1_gate_ts.append([mean,sig])\n",
    "\n",
    "    vals = np.array(exp_ts_df.iloc[T])[5:10]\n",
    "    sigs = exp_ts_sig_df.iloc[T][5:10]\n",
    "    mean,sig = weighted_mean(vals,sigs)\n",
    "    exp2_gate_ts.append([mean,sig])\n",
    "\n",
    "print(np.shape(exp1_gate_ts))"
   ]
  },
  {
   "cell_type": "code",
   "execution_count": 18,
   "id": "7b8f8e27-04d7-42da-b4f4-0f154dc5bbeb",
   "metadata": {},
   "outputs": [
    {
     "name": "stdout",
     "output_type": "stream",
     "text": [
      "EXP1\n",
      "Fit value: a = 1.62313 +/- 0.12944\n",
      "Fit value: v0 = 0.68640 +/- 0.02729\n",
      "Chi2 value: 0.01   Ndof = 2    Prob(Chi2,Ndof) = 0.996\n",
      "EXP2\n",
      "Fit value: a = 1.64515 +/- 0.13093\n",
      "Fit value: v0 = 0.68956 +/- 0.02744\n",
      "Chi2 value: 0.01   Ndof = 2    Prob(Chi2,Ndof) = 0.994\n",
      "           L          H    Theta1    Theta2     drail     dball    Theta3  \\\n",
      "0  88.954000  23.446857  0.255308  0.262941  0.610000  1.209038  0.257722   \n",
      "1   0.491178   0.143254  0.003631  0.003631  0.022875  0.115407  0.002030   \n",
      "\n",
      "       Gate1      Gate2      Gate3      Gate4    EXP1_a    EXP2_a  \n",
      "0  15.045857  30.057857  45.124286  60.390000  4.745083  4.799635  \n",
      "1   0.419223   0.433494   0.722132   0.708819  0.036800  0.037221  \n"
     ]
    },
    {
     "data": {
      "image/png": "[encoded data removed]",
      "text/plain": [
       "<Figure size 640x480 with 1 Axes>"
      ]
     },
     "metadata": {},
     "output_type": "display_data"
    }
   ],
   "source": [
    "data_distance = np.array(pd.read_csv('boi_weighted_means.csv',usecols=[8,9,10,11]).iloc[0]/100)\n",
    "erdata_distance = np.array(pd.read_csv('boi_weighted_means.csv',usecols=[8,9,10,11]).iloc[1]/100)\n",
    "data_times = np.array(exp1_gate_ts)[1:,0]\n",
    "\n",
    "def f_dist(t, a, v0):\n",
    "    return v0*t + a*(0.5)*(t**2)\n",
    "#number degrees of freedom. data points - free parameters\n",
    "Ndof = 4-2\n",
    "\n",
    "#EXP1\n",
    "a_fit = cost.LeastSquares(data_times, data_distance, erdata_distance, f_dist)\n",
    "mfit = Minuit(a_fit, a = 6, v0 = 0)\n",
    "mfit.migrad()\n",
    "\n",
    "fit_a_exp1 = [mfit.values[0],mfit.errors[0]]\n",
    "print('EXP1')\n",
    "for name in mfit.parameters :\n",
    "    value, error = mfit.values[name], mfit.errors[name]\n",
    "    print(f\"Fit value: {name} = {value:.5f} +/- {error:.5f}\")\n",
    "chi2 = mfit.fval\n",
    "p_value = stats.chi2.sf(chi2, Ndof)\n",
    "print(f\"Chi2 value: {chi2:.2f}   Ndof = {Ndof:.0f}    Prob(Chi2,Ndof) = {p_value:5.3f}\")\n",
    "\n",
    "plt.errorbar(data_times, data_distance,yerr=erdata_distance,fmt='.')\n",
    "plt.plot(data_times, f_dist(data_times,mfit.values[0], mfit.values[1]))\n",
    "\n",
    "#EXP2\n",
    "data_times = np.array(exp2_gate_ts)[1:,0]\n",
    "a_fit = cost.LeastSquares(data_times, data_distance, erdata_distance, f_dist)\n",
    "mfit = Minuit(a_fit, a = 6, v0=0)\n",
    "mfit.migrad()\n",
    "\n",
    "fit_a_exp2 = [mfit.values[0],mfit.errors[0]]\n",
    "print('EXP2')\n",
    "for name in mfit.parameters :\n",
    "    value, error = mfit.values[name], mfit.errors[name]\n",
    "    print(f\"Fit value: {name} = {value:.5f} +/- {error:.5f}\")\n",
    "chi2 = mfit.fval\n",
    "p_value = stats.chi2.sf(chi2, Ndof)\n",
    "print(f\"Chi2 value: {chi2:.2f}   Ndof = {Ndof:.0f}    Prob(Chi2,Ndof) = {p_value:5.3f}\")\n",
    "\n",
    "df = pd.read_csv('boi_weighted_means.csv',index_col=0)\n",
    "print(df)\n",
    "df['EXP1_a'] = fit_a_exp1\n",
    "df['EXP2_a'] = fit_a_exp2\n",
    "df.to_csv('boi_weighted_means.csv')"
   ]
  },
  {
   "cell_type": "markdown",
   "id": "57bb0c95-d615-4c8f-9ff5-77fb37dca630",
   "metadata": {},
   "source": [
    "## Prepare pend data"
   ]
  },
  {
   "cell_type": "code",
   "execution_count": 19,
   "id": "36162f74-ff36-46a1-babc-f9411c87286f",
   "metadata": {},
   "outputs": [
    {
     "name": "stdout",
     "output_type": "stream",
     "text": [
      "Measurements inconsistent for L_weight. Using standard deviation of measurements as error on the mean\n",
      "Measurements inconsistent for L_wg. Using standard deviation of measurements as error on the mean\n"
     ]
    },
    {
     "data": {
      "text/latex": [
       "$$L = - He - \\frac{Hl}{2} + Ht$$"
      ],
      "text/plain": [
       "<IPython.core.display.Latex object>"
      ]
     },
     "metadata": {},
     "output_type": "display_data"
    },
    {
     "data": {
      "text/latex": [
       "$$\\sigma_{L} = \\sqrt{\\sigma_{He}^{2} + \\frac{\\sigma_{Hl}^{2}}{4} + \\sigma_{Ht}^{2}}$$"
      ],
      "text/plain": [
       "<IPython.core.display.Latex object>"
      ]
     },
     "metadata": {},
     "output_type": "display_data"
    },
    {
     "data": {
      "text/latex": [
       "$$L = (2200.3275 \\pm 0.1131)$$"
      ],
      "text/plain": [
       "<IPython.core.display.Latex object>"
      ]
     },
     "metadata": {},
     "output_type": "display_data"
    },
    {
     "name": "stdout",
     "output_type": "stream",
     "text": [
      "    L_weight       L_wg           Ht            L\n",
      "0  10.046962  15.144430  2220.495426  2200.327515\n",
      "1   0.108944   0.092694     0.035158     0.113117\n"
     ]
    }
   ],
   "source": [
    "pend_weighted_means = {}\n",
    "\n",
    "for param in pend_parameters[2:]:\n",
    "    vals = pend_setup_raw[param]\n",
    "    vals = vals[vals>0]\n",
    "    sigs = pend_setup_raw[f'{param}_sig']\n",
    "    sigs = sigs[sigs>0]\n",
    "    mean,sig = weighted_mean(vals,sigs)\n",
    "\n",
    "    #Check for consistency\n",
    "    ind_max = 0\n",
    "    ind_min = 0\n",
    "    max_el = vals[0]\n",
    "    min_el = vals[0]\n",
    "    for i,v in enumerate(vals):\n",
    "        if v>max_el:\n",
    "            max_el = v\n",
    "            ind_max = i\n",
    "        if v<min_el:\n",
    "            min_el = v\n",
    "            ind_min = i\n",
    "            \n",
    "    max_val,max_sig = [max_el,sigs[ind_max]]\n",
    "    min_val,min_sig = [min_el,sigs[ind_min]]\n",
    "\n",
    "    if max_val-max_sig*2 < min_val+min_sig*2:\n",
    "        sig = sig\n",
    "    else: \n",
    "        sig = np.std(vals)\n",
    "        print(f'Measurements inconsistent for {param}. Using standard deviation of measurements as error on the mean')\n",
    "    pend_weighted_means[param] = [mean,sig]\n",
    "\n",
    "Ht,Ht_sig = weighted_mean(np.append(np.array(pend_setup_raw['L_laser']), np.array(pend_setup_raw['L_tape'])),\n",
    "                        np.append(np.array(pend_setup_raw['L_laser_sig']),np.array(pend_setup_raw['L_tape_sig'])))\n",
    "pend_weighted_means['Ht'] = [Ht,Ht_sig]\n",
    "weighted_means_df = pd.DataFrame.from_dict(pend_weighted_means)\n",
    "\n",
    "vL, vdL = error_prop_L(weighted_means_df.loc[0,'Ht'],weighted_means_df.loc[0,'L_wg'],weighted_means_df.loc[0,'L_weight'],\n",
    "                       weighted_means_df.loc[1,'Ht'],weighted_means_df.loc[1,'L_wg'],weighted_means_df.loc[1,'L_weight'])\n",
    "\n",
    "weighted_means_df['L'] = [vL,vdL]\n",
    "print(weighted_means_df)\n",
    "weighted_means_df.to_csv('pend_weighted_means.csv')"
   ]
  },
  {
   "cell_type": "code",
   "execution_count": 20,
   "id": "4906e6a6-db4a-400e-8151-5b8310aaeced",
   "metadata": {},
   "outputs": [
    {
     "name": "stdout",
     "output_type": "stream",
     "text": [
      "Fit value (exp): a = 9.37279 +/- 0.00724\n",
      "Fit value (exp): c = -0.06216 +/- 0.02610\n",
      "  Model fit:  Prob(Chi2=  10.1, Ndof=  5) = 0.07235\n"
     ]
    }
   ],
   "source": [
    "use_exps = np.array([1,2,4])\n",
    "pend_t_raw = pd.read_csv('Pendul_T_raw.csv',usecols=use_exps)\n",
    "exps = list(pend_t_raw.columns)\n",
    "for exp in exps:\n",
    "    pend_t_raw[exp] = pend_t_raw[exp]-pend_t_raw.loc[0,exp]\n",
    "\n",
    "pend_t_sigs = np.array(pd.read_csv('pend_t_uncert.csv',usecols=use_exps-1).iloc[0])\n",
    "pend_t_means = []\n",
    "for i in range(0,7):\n",
    "    vals = pend_t_raw.iloc[i]\n",
    "    mean,sig = weighted_mean(vals,pend_t_sigs)\n",
    "    pend_t_means.append([mean,sig])\n",
    "\n",
    "pend_t_means = np.array(pend_t_means)\n",
    "\n",
    "pend_Ns = range(len(pend_t_means[:,0]))\n",
    "\n",
    "def linear_pdf(x, a, c) :\n",
    "    \"\"\"linear fit\"\"\"\n",
    "    return a*x + c\n",
    "\n",
    "cfit = cost.LeastSquares(pend_Ns,pend_t_means[:,0], pend_t_means[:,1], linear_pdf)\n",
    "mfit = Minuit(cfit, a = 10, c = -3)\n",
    "mfit.migrad() \n",
    "\n",
    "for name in mfit.parameters:\n",
    "    print(\"Fit value (exp): {0} = {1:.5f} +/- {2:.5f}\".format(name, mfit.values[name], mfit.errors[name]))\n",
    "chi2 = mfit.fmin.fval\n",
    "Ndof = len(pend_Ns) - len(mfit.values[:])\n",
    "Prob = stats.chi2.sf(chi2, Ndof)\n",
    "print(f\"  Model fit:  Prob(Chi2={chi2:6.1f}, Ndof={Ndof:3d}) = {Prob:7.5f}\")\n",
    "\n",
    "df = pd.read_csv('pend_weighted_means.csv',index_col=0)\n",
    "df['T'] = [mfit.values['a'],mfit.errors['a']]\n",
    "\n",
    "df.to_csv('pend_weighted_means.csv')"
   ]
  },
  {
   "cell_type": "code",
   "execution_count": 21,
   "id": "8191759c-b6fa-4537-8a99-5c1f0cb3f6e2",
   "metadata": {},
   "outputs": [
    {
     "data": {
      "text/plain": [
       "[<matplotlib.lines.Line2D at 0x2dbe6132650>]"
      ]
     },
     "execution_count": 21,
     "metadata": {},
     "output_type": "execute_result"
    },
    {
     "data": {
      "image/png": "[encoded data removed]",
      "text/plain": [
       "<Figure size 640x480 with 1 Axes>"
      ]
     },
     "metadata": {},
     "output_type": "display_data"
    }
   ],
   "source": [
    "linear_vector = np.vectorize(linear_pdf)\n",
    "\n",
    "plt.errorbar(pend_Ns,pend_t_means[:,0],yerr=pend_t_means[:,1],fmt='.')\n",
    "plt.plot(pend_Ns,np.array(pend_Ns)*mfit.values['a']+mfit.values['c'])"
   ]
  },
  {
   "cell_type": "markdown",
   "id": "15a974e6-5606-47ae-b691-3ffc2e644dfd",
   "metadata": {},
   "source": [
    "## Calculate g from both experiments"
   ]
  },
  {
   "cell_type": "code",
   "execution_count": 25,
   "id": "573593b2-42b3-4936-87b3-7cb5f6c558e8",
   "metadata": {},
   "outputs": [],
   "source": [
    "#Error propagation for pendulum length calculation\n",
    "def error_prop_pend(mu_T,mu_L,sigT,sigL):\n",
    "    # Define variables:\n",
    "    T,L,g = symbols(\"T,L,g\")\n",
    "    dT,dL,dg = symbols(\"sigma_T, sigma_L, sigma_g\")\n",
    "    \n",
    "    # Define relation, and print:\n",
    "    g = L * ((2*pi)/T)**2\n",
    "    lprint(latex(Eq(symbols('g'),g)))\n",
    "    \n",
    "    # Calculate uncertainty and print:\n",
    "    dg = sqrt((g.diff(T) * dT)**2 + (g.diff(L) * dL)**2)\n",
    "    dg1 = (g.diff(T) * dT)**2\n",
    "    dg2 = (g.diff(L) * dL)**2\n",
    "    lprint(latex(Eq(symbols('sigma_g'), dg)))\n",
    "    lprint(latex(Eq(symbols('sigma_g1'), dg1)))\n",
    "    lprint(latex(Eq(symbols('sigma_g2'), dg2)))\n",
    "    \n",
    "    # Turn expression into numerical functions \n",
    "    fg = lambdify((T,L),g)\n",
    "    fdg = lambdify((T,dT,L,dL),dg)\n",
    "    fdg1 = lambdify((T,dT,L,dL),dg1)\n",
    "    fdg2 = lambdify((T,dT,L,dL),dg2)\n",
    "\n",
    "    # Define values and their errors\n",
    "    vT, vdT = mu_T,sigT\n",
    "    vL, vdL = mu_L,sigL\n",
    "    \n",
    "    # Numerically evaluate expressions and print \n",
    "    vg = fg(vT,vL)\n",
    "    vdg = fdg(vT,vdT,vL,vdL)\n",
    "    vdg1 = fdg1(vT,vdT,vL,vdL)\n",
    "    vdg2 = fdg2(vT,vdT,vL,vdL)\n",
    "    lprint(fr'sigg1 = ({vdg1:.4f})')\n",
    "    lprint(fr'sigg2 = ({vdg2:.4f})')\n",
    "    lprint(fr'g = ({vg:.4f} \\pm {vdg:.4f})')\n",
    "\n",
    "\n",
    "    return vg, vdg\n",
    "\n",
    "#Error propagation for pendulum length calculation\n",
    "def error_prop_boi(mu_a,mu_D,mu_r,mu_theta,siga,sigD,sigr,sig_theta):\n",
    "    # Define variables:\n",
    "    a,D,r,Theta,g = symbols(\"a,D,r,theta,g\")\n",
    "    da,dD,dr,dTheta,dg = symbols(\"sigma_a, sigma_D,sigma_r,sigma_theta,sigma_g\")\n",
    "    dg1,dg2,dg3,dg4 = symbols(\"sigma_g1,sigma_g2,sigma_g3,sigma_g4\")\n",
    "    \n",
    "    # Define relation, and print:\n",
    "    g = (a/sin(Theta))*(1 + (2/5)*(D**2)/(D**2 - r**2))\n",
    "    lprint(latex(Eq(symbols('g'),g)))\n",
    "    \n",
    "    # Calculate uncertainty and print:\n",
    "    dg = sqrt((g.diff(a) * da)**2 + (g.diff(Theta) * dTheta)**2 + (g.diff(D) * dD)**2 + (g.diff(r) * dr)**2)\n",
    "    lprint(latex(Eq(symbols('sigma_g'), dg)))\n",
    "\n",
    "    dg1 = (g.diff(a) * da)**2\n",
    "    dg2 = (g.diff(Theta) * dTheta)**2\n",
    "    dg3 = (g.diff(D) * dD)**2\n",
    "    dg4 = (g.diff(r) * dr)**2\n",
    "    lprint(latex(Eq(symbols('sigma_g1'), dg1)))\n",
    "    lprint(latex(Eq(symbols('sigma_g2'), dg2)))\n",
    "    lprint(latex(Eq(symbols('sigma_g3'), dg3)))\n",
    "    lprint(latex(Eq(symbols('sigma_g4'), dg4)))\n",
    "    \n",
    "    # Turn expression into numerical functions \n",
    "    fg = lambdify((a,D,r,Theta),g)\n",
    "    fdg = lambdify((a,da,D,dD,r,dr,Theta,dTheta),dg)\n",
    "\n",
    "    fdg1 = lambdify((a,da,D,dD,r,dr,Theta,dTheta),dg1)\n",
    "    fdg2 = lambdify((a,da,D,dD,r,dr,Theta,dTheta),dg2)\n",
    "    fdg3 = lambdify((a,da,D,dD,r,dr,Theta,dTheta),dg3)\n",
    "    fdg4 = lambdify((a,da,D,dD,r,dr,Theta,dTheta),dg4)\n",
    "    \n",
    "    # Define values and their errors\n",
    "    va, vda = mu_a,siga\n",
    "    vD, vdD = mu_D,sigD\n",
    "    vr, vdr = mu_r,sigr\n",
    "    vTheta, vdTheta = mu_theta,sig_theta\n",
    "    \n",
    "    # Numerically evaluate expressions and print \n",
    "    vg = fg(va,vD,vr,vTheta)\n",
    "    vdg = fdg(va,vda,vD,vdD,vr,vdr,vTheta,vdTheta)\n",
    "    lprint(fr'g = ({vg:.4f} \\pm {vdg:.4f})')\n",
    "\n",
    "    vdg1 = fdg1(va,vda,vD,vdD,vr,vdr,vTheta,vdTheta)\n",
    "    vdg2 = fdg2(va,vda,vD,vdD,vr,vdr,vTheta,vdTheta)\n",
    "    vdg3 = fdg3(va,vda,vD,vdD,vr,vdr,vTheta,vdTheta)\n",
    "    vdg4 = fdg4(va,vda,vD,vdD,vr,vdr,vTheta,vdTheta)\n",
    "    lprint(fr'sig_g1 = ({vdg1:.4f})')\n",
    "    lprint(fr'sig_g2 = ({vdg2:.4f})')\n",
    "    lprint(fr'sig_g3 = ({vdg3:.4f})')\n",
    "    lprint(fr'sig_g4 = ({vdg4:.4f})')\n",
    "\n",
    "    return vg, vdg"
   ]
  },
  {
   "cell_type": "code",
   "execution_count": 27,
   "id": "5feae26e-a0a7-40d1-8669-797ef38a28c0",
   "metadata": {},
   "outputs": [
    {
     "name": "stdout",
     "output_type": "stream",
     "text": [
      "Pendulum length and uncertainty: 22.003275150600057 0.001131170585859604\n",
      "Pendulum period and uncertainty: 9.372788979737734 0.0072376564897228\n"
     ]
    },
    {
     "data": {
      "text/latex": [
       "$$g = \\frac{4 \\pi^{2} L}{T^{2}}$$"
      ],
      "text/plain": [
       "<IPython.core.display.Latex object>"
      ]
     },
     "metadata": {},
     "output_type": "display_data"
    },
    {
     "data": {
      "text/latex": [
       "$$\\sigma_{g} = \\sqrt{\\frac{64 \\pi^{4} L^{2} \\sigma_{T}^{2}}{T^{6}} + \\frac{16 \\pi^{4} \\sigma_{L}^{2}}{T^{4}}}$$"
      ],
      "text/plain": [
       "<IPython.core.display.Latex object>"
      ]
     },
     "metadata": {},
     "output_type": "display_data"
    },
    {
     "data": {
      "text/latex": [
       "$$\\sigma_{g1} = \\frac{64 \\pi^{4} L^{2} \\sigma_{T}^{2}}{T^{6}}$$"
      ],
      "text/plain": [
       "<IPython.core.display.Latex object>"
      ]
     },
     "metadata": {},
     "output_type": "display_data"
    },
    {
     "data": {
      "text/latex": [
       "$$\\sigma_{g2} = \\frac{16 \\pi^{4} \\sigma_{L}^{2}}{T^{4}}$$"
      ],
      "text/plain": [
       "<IPython.core.display.Latex object>"
      ]
     },
     "metadata": {},
     "output_type": "display_data"
    },
    {
     "data": {
      "text/latex": [
       "$$sigg1 = (0.0002)$$"
      ],
      "text/plain": [
       "<IPython.core.display.Latex object>"
      ]
     },
     "metadata": {},
     "output_type": "display_data"
    },
    {
     "data": {
      "text/latex": [
       "$$sigg2 = (0.0000)$$"
      ],
      "text/plain": [
       "<IPython.core.display.Latex object>"
      ]
     },
     "metadata": {},
     "output_type": "display_data"
    },
    {
     "data": {
      "text/latex": [
       "$$g = (9.8880 \\pm 0.0153)$$"
      ],
      "text/plain": [
       "<IPython.core.display.Latex object>"
      ]
     },
     "metadata": {},
     "output_type": "display_data"
    },
    {
     "name": "stdout",
     "output_type": "stream",
     "text": [
      "Boi1 acceleration and uncertainty: 1.6231347876517677 0.129444933915794\n",
      "Boi1 ball diameter and uncertainty: 0.012090384615384616 0.001154068888758379\n",
      "Boi1 rail diameter and uncertainty: 0.006099999999999999 0.000228747855498907\n",
      "Boi1 angle and uncertainty: 0.2553081055426936 0.0036305042945958\n"
     ]
    },
    {
     "data": {
      "text/latex": [
       "$$g = \\frac{a \\left(\\frac{0.4 D^{2}}{D^{2} - r^{2}} + 1\\right)}{\\sin{\\left(\\theta \\right)}}$$"
      ],
      "text/plain": [
       "<IPython.core.display.Latex object>"
      ]
     },
     "metadata": {},
     "output_type": "display_data"
    },
    {
     "data": {
      "text/latex": [
       "$$\\sigma_{g} = \\sqrt{\\frac{0.64 D^{4} a^{2} r^{2} \\sigma_{r}^{2}}{\\left(D^{2} - r^{2}\\right)^{4} \\sin^{2}{\\left(\\theta \\right)}} + \\frac{0.64 a^{2} \\sigma_{D}^{2} \\left(- \\frac{D^{3}}{\\left(D^{2} - r^{2}\\right)^{2}} + \\frac{D}{D^{2} - r^{2}}\\right)^{2}}{\\sin^{2}{\\left(\\theta \\right)}} + \\frac{a^{2} \\sigma_{\\theta}^{2} \\left(\\frac{0.4 D^{2}}{D^{2} - r^{2}} + 1\\right)^{2} \\cos^{2}{\\left(\\theta \\right)}}{\\sin^{4}{\\left(\\theta \\right)}} + \\frac{\\sigma_{a}^{2} \\left(\\frac{0.4 D^{2}}{D^{2} - r^{2}} + 1\\right)^{2}}{\\sin^{2}{\\left(\\theta \\right)}}}$$"
      ],
      "text/plain": [
       "<IPython.core.display.Latex object>"
      ]
     },
     "metadata": {},
     "output_type": "display_data"
    },
    {
     "data": {
      "text/latex": [
       "$$\\sigma_{g1} = \\frac{\\sigma_{a}^{2} \\left(\\frac{0.4 D^{2}}{D^{2} - r^{2}} + 1\\right)^{2}}{\\sin^{2}{\\left(\\theta \\right)}}$$"
      ],
      "text/plain": [
       "<IPython.core.display.Latex object>"
      ]
     },
     "metadata": {},
     "output_type": "display_data"
    },
    {
     "data": {
      "text/latex": [
       "$$\\sigma_{g2} = \\frac{a^{2} \\sigma_{\\theta}^{2} \\left(\\frac{0.4 D^{2}}{D^{2} - r^{2}} + 1\\right)^{2} \\cos^{2}{\\left(\\theta \\right)}}{\\sin^{4}{\\left(\\theta \\right)}}$$"
      ],
      "text/plain": [
       "<IPython.core.display.Latex object>"
      ]
     },
     "metadata": {},
     "output_type": "display_data"
    },
    {
     "data": {
      "text/latex": [
       "$$\\sigma_{g3} = \\frac{0.64 a^{2} \\sigma_{D}^{2} \\left(- \\frac{D^{3}}{\\left(D^{2} - r^{2}\\right)^{2}} + \\frac{D}{D^{2} - r^{2}}\\right)^{2}}{\\sin^{2}{\\left(\\theta \\right)}}$$"
      ],
      "text/plain": [
       "<IPython.core.display.Latex object>"
      ]
     },
     "metadata": {},
     "output_type": "display_data"
    },
    {
     "data": {
      "text/latex": [
       "$$\\sigma_{g4} = \\frac{0.64 D^{4} a^{2} r^{2} \\sigma_{r}^{2}}{\\left(D^{2} - r^{2}\\right)^{4} \\sin^{2}{\\left(\\theta \\right)}}$$"
      ],
      "text/plain": [
       "<IPython.core.display.Latex object>"
      ]
     },
     "metadata": {},
     "output_type": "display_data"
    },
    {
     "data": {
      "text/latex": [
       "$$g = (9.8759 \\pm 0.8352)$$"
      ],
      "text/plain": [
       "<IPython.core.display.Latex object>"
      ]
     },
     "metadata": {},
     "output_type": "display_data"
    },
    {
     "data": {
      "text/latex": [
       "$$sig_g1 = (0.6203)$$"
      ],
      "text/plain": [
       "<IPython.core.display.Latex object>"
      ]
     },
     "metadata": {},
     "output_type": "display_data"
    },
    {
     "data": {
      "text/latex": [
       "$$sig_g2 = (0.0189)$$"
      ],
      "text/plain": [
       "<IPython.core.display.Latex object>"
      ]
     },
     "metadata": {},
     "output_type": "display_data"
    },
    {
     "data": {
      "text/latex": [
       "$$sig_g3 = (0.0505)$$"
      ],
      "text/plain": [
       "<IPython.core.display.Latex object>"
      ]
     },
     "metadata": {},
     "output_type": "display_data"
    },
    {
     "data": {
      "text/latex": [
       "$$sig_g4 = (0.0078)$$"
      ],
      "text/plain": [
       "<IPython.core.display.Latex object>"
      ]
     },
     "metadata": {},
     "output_type": "display_data"
    },
    {
     "name": "stdout",
     "output_type": "stream",
     "text": [
      "Boi2 acceleration and uncertainty: 1.6451462211368044 0.130934691187693\n",
      "Boi2 ball diameter and uncertainty: 0.012090384615384616 0.001154068888758379\n",
      "Boi2 rail diameter and uncertainty: 0.006099999999999999 0.000228747855498907\n",
      "Boi2 angle and uncertainty: 0.2629405646177611 0.0036305042945958\n"
     ]
    },
    {
     "data": {
      "text/latex": [
       "$$g = \\frac{a \\left(\\frac{0.4 D^{2}}{D^{2} - r^{2}} + 1\\right)}{\\sin{\\left(\\theta \\right)}}$$"
      ],
      "text/plain": [
       "<IPython.core.display.Latex object>"
      ]
     },
     "metadata": {},
     "output_type": "display_data"
    },
    {
     "data": {
      "text/latex": [
       "$$\\sigma_{g} = \\sqrt{\\frac{0.64 D^{4} a^{2} r^{2} \\sigma_{r}^{2}}{\\left(D^{2} - r^{2}\\right)^{4} \\sin^{2}{\\left(\\theta \\right)}} + \\frac{0.64 a^{2} \\sigma_{D}^{2} \\left(- \\frac{D^{3}}{\\left(D^{2} - r^{2}\\right)^{2}} + \\frac{D}{D^{2} - r^{2}}\\right)^{2}}{\\sin^{2}{\\left(\\theta \\right)}} + \\frac{a^{2} \\sigma_{\\theta}^{2} \\left(\\frac{0.4 D^{2}}{D^{2} - r^{2}} + 1\\right)^{2} \\cos^{2}{\\left(\\theta \\right)}}{\\sin^{4}{\\left(\\theta \\right)}} + \\frac{\\sigma_{a}^{2} \\left(\\frac{0.4 D^{2}}{D^{2} - r^{2}} + 1\\right)^{2}}{\\sin^{2}{\\left(\\theta \\right)}}}$$"
      ],
      "text/plain": [
       "<IPython.core.display.Latex object>"
      ]
     },
     "metadata": {},
     "output_type": "display_data"
    },
    {
     "data": {
      "text/latex": [
       "$$\\sigma_{g1} = \\frac{\\sigma_{a}^{2} \\left(\\frac{0.4 D^{2}}{D^{2} - r^{2}} + 1\\right)^{2}}{\\sin^{2}{\\left(\\theta \\right)}}$$"
      ],
      "text/plain": [
       "<IPython.core.display.Latex object>"
      ]
     },
     "metadata": {},
     "output_type": "display_data"
    },
    {
     "data": {
      "text/latex": [
       "$$\\sigma_{g2} = \\frac{a^{2} \\sigma_{\\theta}^{2} \\left(\\frac{0.4 D^{2}}{D^{2} - r^{2}} + 1\\right)^{2} \\cos^{2}{\\left(\\theta \\right)}}{\\sin^{4}{\\left(\\theta \\right)}}$$"
      ],
      "text/plain": [
       "<IPython.core.display.Latex object>"
      ]
     },
     "metadata": {},
     "output_type": "display_data"
    },
    {
     "data": {
      "text/latex": [
       "$$\\sigma_{g3} = \\frac{0.64 a^{2} \\sigma_{D}^{2} \\left(- \\frac{D^{3}}{\\left(D^{2} - r^{2}\\right)^{2}} + \\frac{D}{D^{2} - r^{2}}\\right)^{2}}{\\sin^{2}{\\left(\\theta \\right)}}$$"
      ],
      "text/plain": [
       "<IPython.core.display.Latex object>"
      ]
     },
     "metadata": {},
     "output_type": "display_data"
    },
    {
     "data": {
      "text/latex": [
       "$$\\sigma_{g4} = \\frac{0.64 D^{4} a^{2} r^{2} \\sigma_{r}^{2}}{\\left(D^{2} - r^{2}\\right)^{4} \\sin^{2}{\\left(\\theta \\right)}}$$"
      ],
      "text/plain": [
       "<IPython.core.display.Latex object>"
      ]
     },
     "metadata": {},
     "output_type": "display_data"
    },
    {
     "data": {
      "text/latex": [
       "$$g = (9.7257 \\pm 0.8203)$$"
      ],
      "text/plain": [
       "<IPython.core.display.Latex object>"
      ]
     },
     "metadata": {},
     "output_type": "display_data"
    },
    {
     "data": {
      "text/latex": [
       "$$sig_g1 = (0.5992)$$"
      ],
      "text/plain": [
       "<IPython.core.display.Latex object>"
      ]
     },
     "metadata": {},
     "output_type": "display_data"
    },
    {
     "data": {
      "text/latex": [
       "$$sig_g2 = (0.0172)$$"
      ],
      "text/plain": [
       "<IPython.core.display.Latex object>"
      ]
     },
     "metadata": {},
     "output_type": "display_data"
    },
    {
     "data": {
      "text/latex": [
       "$$sig_g3 = (0.0490)$$"
      ],
      "text/plain": [
       "<IPython.core.display.Latex object>"
      ]
     },
     "metadata": {},
     "output_type": "display_data"
    },
    {
     "data": {
      "text/latex": [
       "$$sig_g4 = (0.0076)$$"
      ],
      "text/plain": [
       "<IPython.core.display.Latex object>"
      ]
     },
     "metadata": {},
     "output_type": "display_data"
    },
    {
     "data": {
      "text/plain": [
       "(np.float64(9.725708001016294), np.float64(0.8203379111304718))"
      ]
     },
     "execution_count": 27,
     "metadata": {},
     "output_type": "execute_result"
    }
   ],
   "source": [
    "df = pd.read_csv('pend_weighted_means.csv')\n",
    "mu_L, sigL = df['L']/100\n",
    "mu_T, sigT = df['T']\n",
    "print('Pendulum length and uncertainty:', mu_L, sigL)\n",
    "print('Pendulum period and uncertainty:', mu_T, sigT)\n",
    "error_prop_pend(mu_T,mu_L,sigT,sigL)\n",
    "\n",
    "df = pd.read_csv('boi_weighted_means.csv')\n",
    "\n",
    "mu_a,siga = df['EXP1_a']\n",
    "mu_D,sigD = df['dball']/100\n",
    "mu_r,sig_r = df['drail']/100\n",
    "mu_theta,sig_theta = df['Theta1']\n",
    "print('Boi1 acceleration and uncertainty:', mu_a, siga)\n",
    "print('Boi1 ball diameter and uncertainty:', mu_D, sigD)\n",
    "print('Boi1 rail diameter and uncertainty:', mu_r, sig_r)\n",
    "print('Boi1 angle and uncertainty:', mu_theta, sig_theta)\n",
    "\n",
    "error_prop_boi(mu_a,mu_D,mu_r,mu_theta,siga,sigD,sig_r,sig_theta)\n",
    "\n",
    "mu_a,siga = df['EXP2_a']\n",
    "mu_D,sigD = df['dball']/100\n",
    "mu_r,sig_r = df['drail']/100\n",
    "mu_theta,sig_theta = df['Theta2']\n",
    "print('Boi2 acceleration and uncertainty:', mu_a, siga)\n",
    "print('Boi2 ball diameter and uncertainty:', mu_D, sigD)\n",
    "print('Boi2 rail diameter and uncertainty:', mu_r, sig_r)\n",
    "print('Boi2 angle and uncertainty:', mu_theta, sig_theta)\n",
    "\n",
    "error_prop_boi(mu_a,mu_D,mu_r,mu_theta,siga,sigD,sig_r,sig_theta)\n",
    "\n"
   ]
  },
  {
   "cell_type": "code",
   "execution_count": 24,
   "id": "1cb4ea54-89b7-4212-b206-cd6522e2e3f7",
   "metadata": {},
   "outputs": [
    {
     "name": "stdout",
     "output_type": "stream",
     "text": [
      "-0.007632459075067488\n",
      "-0.0038819098322470623\n"
     ]
    }
   ],
   "source": [
    "dtheta1 = df.loc[0,'Theta1']-df.loc[0,'Theta2']\n",
    "print(dtheta1)\n",
    "dtheta2 = ((df.loc[0,'Theta1']-df.loc[0,'Theta2'])*np.sin(df.loc[0,'Theta3']))/((df.loc[0,'Theta1']+df.loc[0,'Theta2'])*np.cos(df.loc[0,'Theta3']))\n",
    "print(dtheta2)"
   ]
  },
  {
   "cell_type": "code",
   "execution_count": null,
   "id": "e90ada13-6f8b-4edc-bb6f-98814cc6894b",
   "metadata": {},
   "outputs": [],
   "source": [
    "#Calculating percentage weight of each error contribution\n",
    "\n",
    "#Pendulum\n",
    "#pendulum length"
   ]
  }
 ],
 "metadata": {
  "kernelspec": {
   "display_name": "Python 3",
   "language": "python",
   "name": "python3"
  },
  "language_info": {
   "codemirror_mode": {
    "name": "ipython",
    "version": 3
   },
   "file_extension": ".py",
   "mimetype": "text/x-python",
   "name": "python",
   "nbconvert_exporter": "python",
   "pygments_lexer": "ipython3",
   "version": "3.11.9"
  }
 },
 "nbformat": 4,
 "nbformat_minor": 5
}
