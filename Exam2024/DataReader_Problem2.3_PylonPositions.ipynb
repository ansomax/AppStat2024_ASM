{
 "cells": [
  {
   "cell_type": "markdown",
   "metadata": {},
   "source": [
    "### Script for reading data for Problem 2.3 (data_PylonPositions.csv) in Applied Statistics 2024-25 exam:\n",
    "\n",
    "The data file contains a header and 120 entries in two columns:\n",
    " * Pylon positions (in meters)\n",
    " * Pylon position uncertainties (in meters). Values of -1 indicate no uncertainty.\n",
    "\n",
    "The script was distributed along with the exam and the data file itself on the 16th of January 2025.\n",
    "\n",
    "####  Author:\n",
    "- Troels Petersen (Niels Bohr Institute, petersen@nbi.dk)\n",
    "\n",
    "####  Date:   \n",
    " - 12th of January 2025 (latest version)"
   ]
  },
  {
   "cell_type": "code",
   "execution_count": null,
   "metadata": {},
   "outputs": [],
   "source": [
    "import pandas as pd"
   ]
  },
  {
   "cell_type": "code",
   "execution_count": null,
   "metadata": {},
   "outputs": [],
   "source": [
    "dataframe = pd.read_csv('data_PylonPositions.csv', header=0)\n",
    "Ppos, Ppos_unc = dataframe.values.T\n",
    "dataframe"
   ]
  },
  {
   "cell_type": "markdown",
   "metadata": {},
   "source": [
    "Print the first 10 entries to check the content of the file:"
   ]
  },
  {
   "cell_type": "code",
   "execution_count": null,
   "metadata": {},
   "outputs": [],
   "source": [
    "for i in range(10):\n",
    "    print(f\"  Pylon Position: {Ppos[i]:7.3f} +- {Ppos_unc[i]:7.3f} m\")"
   ]
  }
 ],
 "metadata": {
  "executable": "/usr/bin/env python",
  "kernelspec": {
   "display_name": "Python 3 (ipykernel)",
   "language": "python",
   "name": "python3"
  },
  "language_info": {
   "codemirror_mode": {
    "name": "ipython",
    "version": 3
   },
   "file_extension": ".py",
   "mimetype": "text/x-python",
   "name": "python",
   "nbconvert_exporter": "python",
   "pygments_lexer": "ipython3",
   "version": "3.13.0"
  },
  "main_language": "python"
 },
 "nbformat": 4,
 "nbformat_minor": 4
}
