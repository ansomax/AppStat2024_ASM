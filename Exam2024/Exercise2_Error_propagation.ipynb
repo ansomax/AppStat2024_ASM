{
 "cells": [
  {
   "cell_type": "code",
   "execution_count": 44,
   "metadata": {},
   "outputs": [],
   "source": [
    "import numpy as np\n",
    "import matplotlib.pyplot as plt\n",
    "from sympy import *\n",
    "import scipy as scp\n",
    "from IPython.core.display import Latex\n",
    "\n",
    "def lprint(*args,**kwargs):\n",
    "    \"\"\"Pretty print arguments as LaTeX using IPython display system \n",
    "    \n",
    "    Parameters\n",
    "    ----------\n",
    "    args : tuple \n",
    "        What to print (in LaTeX math mode)\n",
    "    kwargs : dict \n",
    "        optional keywords to pass to `display` \n",
    "    \"\"\"\n",
    "    display(Latex('$$'+' '.join(args)+'$$'),**kwargs)"
   ]
  },
  {
   "cell_type": "markdown",
   "metadata": {},
   "source": [
    "### 2"
   ]
  },
  {
   "cell_type": "markdown",
   "metadata": {},
   "source": [
    "#### 2.1"
   ]
  },
  {
   "cell_type": "code",
   "execution_count": 13,
   "metadata": {},
   "outputs": [
    {
     "name": "stdout",
     "output_type": "stream",
     "text": [
      "0.00040538714472321074\n"
     ]
    }
   ],
   "source": [
    "r_proto_solar = 25e-6\n",
    "err_proto_solar = 5e-6\n",
    "r_comet = 309e-6\n",
    "err_comet = 20e-6\n",
    "r_earth = 149e-6\n",
    "err_earth = 3e-6\n",
    "\n",
    "total = err_earth**2/r_earth**2\n",
    "print(total)\n",
    "#err_earth/r_earth = np.sqrt(err_proto/r_proto + err_comet/r_comet)"
   ]
  },
  {
   "cell_type": "code",
   "execution_count": 34,
   "metadata": {},
   "outputs": [
    {
     "name": "stdout",
     "output_type": "stream",
     "text": [
      "9.548099999999998 0.00040538714472321074\n"
     ]
    }
   ],
   "source": [
    "#doing error propagation\n",
    "\n",
    "part_from_proto_solar = err_proto_solar**2/r_proto_solar**2\n",
    "\n",
    "part_from_comet = err_comet**2/r_comet**2\n",
    "\n",
    "print(part_from_proto_solar/part_from_comet, total)"
   ]
  },
  {
   "cell_type": "markdown",
   "metadata": {},
   "source": [
    "#### 2.2"
   ]
  },
  {
   "cell_type": "markdown",
   "metadata": {},
   "source": [
    "##### 2.2.1"
   ]
  },
  {
   "cell_type": "code",
   "execution_count": 51,
   "metadata": {},
   "outputs": [
    {
     "name": "stdout",
     "output_type": "stream",
     "text": [
      "20.030487804878046\n"
     ]
    },
    {
     "name": "stderr",
     "output_type": "stream",
     "text": [
      "/var/folders/bp/h0lnb5j91bn1mykh3m6j0dx00000gn/T/ipykernel_1254/722994616.py:12: RuntimeWarning: invalid value encountered in sqrt\n",
      "  return np.sqrt(((rate)*(1-(rate)))/t)\n"
     ]
    }
   ],
   "source": [
    "mu_N = 1971\n",
    "\n",
    "mu_t = 98.4\n",
    "\n",
    "sigma_t = 3.7 #always\n",
    "\n",
    "sigma_N = np.sqrt(mu_N)\n",
    "\n",
    "rate = mu_N/mu_t\n",
    "\n",
    "def err_on_frac(rate, t):\n",
    "    return np.sqrt(((rate)*(1-(rate)))/t)\n",
    "\n",
    "d_frac = err_on_frac(rate, mu_t)\n",
    "\n",
    "print(rate)"
   ]
  },
  {
   "cell_type": "code",
   "execution_count": 68,
   "metadata": {},
   "outputs": [
    {
     "data": {
      "text/latex": [
       "$$f = \\frac{N}{t}$$"
      ],
      "text/plain": [
       "<IPython.core.display.Latex object>"
      ]
     },
     "metadata": {},
     "output_type": "display_data"
    },
    {
     "data": {
      "text/latex": [
       "$$\\sigma_{f} = \\sqrt{\\frac{N^{2} \\sigma_{t}^{2}}{t^{4}} + \\frac{\\sigma_{N}^{2}}{t^{2}}}$$"
      ],
      "text/plain": [
       "<IPython.core.display.Latex object>"
      ]
     },
     "metadata": {},
     "output_type": "display_data"
    },
    {
     "data": {
      "text/latex": [
       "$$\\sigma_{N} = \\sqrt{\\frac{\\sigma_{N}^{2}}{t^{2}}}$$"
      ],
      "text/plain": [
       "<IPython.core.display.Latex object>"
      ]
     },
     "metadata": {},
     "output_type": "display_data"
    },
    {
     "data": {
      "text/latex": [
       "$$\\sigma_{t} = \\sqrt{\\frac{N^{2} \\sigma_{t}^{2}}{t^{4}}}$$"
      ],
      "text/plain": [
       "<IPython.core.display.Latex object>"
      ]
     },
     "metadata": {},
     "output_type": "display_data"
    },
    {
     "data": {
      "text/latex": [
       "$$f = (20.0 \\pm 0.9)$$"
      ],
      "text/plain": [
       "<IPython.core.display.Latex object>"
      ]
     },
     "metadata": {},
     "output_type": "display_data"
    },
    {
     "data": {
      "text/latex": [
       "$$dN = 0.5$$"
      ],
      "text/plain": [
       "<IPython.core.display.Latex object>"
      ]
     },
     "metadata": {},
     "output_type": "display_data"
    },
    {
     "data": {
      "text/latex": [
       "$$dt = 0.8$$"
      ],
      "text/plain": [
       "<IPython.core.display.Latex object>"
      ]
     },
     "metadata": {},
     "output_type": "display_data"
    }
   ],
   "source": [
    "mu_N = 1971\n",
    "\n",
    "mu_t = 98.4\n",
    "\n",
    "sigma_t = 3.7 #always\n",
    "\n",
    "sigma_N = np.sqrt(mu_N)\n",
    "\n",
    "f, N, t = symbols('f, N, t')\n",
    "df, dN, dt = symbols('sigma_t, sigma_N, sigma_t')\n",
    "\n",
    "f = N/t\n",
    "\n",
    "lprint(latex(Eq(symbols('f'),f)))\n",
    "\n",
    "df = sqrt(f.diff(N)**2 * dN**2 + f.diff(t)**2 * dt**2)\n",
    "d_N = sqrt(f.diff(N)**2 * dN**2)\n",
    "d_t = sqrt(f.diff(t)**2 * dt**2)\n",
    "\n",
    "lprint(latex(Eq(symbols('sigma_f'),df)))\n",
    "lprint(latex(Eq(symbols('sigma_N'),d_N)))\n",
    "lprint(latex(Eq(symbols('sigma_t'),d_t)))\n",
    "\n",
    "ff = lambdify((N, dN, t, dt), f)\n",
    "fdf = lambdify((N, dN, t, dt), df)\n",
    "fd_N = lambdify((N, dN, t, dt), d_N)\n",
    "fd_t = lambdify((N, dN, t, dt), d_t)\n",
    "\n",
    "vN, vdN = mu_N, sigma_N\n",
    "vt, vdt = mu_t, sigma_t\n",
    "\n",
    "vf = ff(vN, vdN, vt, vdt)\n",
    "vdf = fdf(vN, vdN, vt, vdt)\n",
    "vd_N = fd_N(vN, vdN, vt, vdt)\n",
    "vd_t = fd_t(vN, vdN, vt, vdt)\n",
    "\n",
    "lprint(fr'f = ({vf:.1f} \\pm {vdf:.1f})')\n",
    "lprint(fr'dN = {vd_N:.1f}')\n",
    "lprint(fr'dt = {vd_t:.1f}')"
   ]
  },
  {
   "cell_type": "markdown",
   "metadata": {},
   "source": [
    "##### 2.2.2"
   ]
  },
  {
   "cell_type": "code",
   "execution_count": 65,
   "metadata": {},
   "outputs": [
    {
     "name": "stdout",
     "output_type": "stream",
     "text": [
      "1.6\n"
     ]
    }
   ],
   "source": [
    "dn = 0.5\n",
    "dt = 0.8\n",
    "\n",
    "relative_uncertainties = dt/dn\n",
    "\n",
    "print(relative_uncertainties)\n"
   ]
  },
  {
   "cell_type": "code",
   "execution_count": null,
   "metadata": {},
   "outputs": [],
   "source": []
  }
 ],
 "metadata": {
  "kernelspec": {
   "display_name": "Python 3",
   "language": "python",
   "name": "python3"
  },
  "language_info": {
   "codemirror_mode": {
    "name": "ipython",
    "version": 3
   },
   "file_extension": ".py",
   "mimetype": "text/x-python",
   "name": "python",
   "nbconvert_exporter": "python",
   "pygments_lexer": "ipython3",
   "version": "3.9.6"
  }
 },
 "nbformat": 4,
 "nbformat_minor": 2
}
