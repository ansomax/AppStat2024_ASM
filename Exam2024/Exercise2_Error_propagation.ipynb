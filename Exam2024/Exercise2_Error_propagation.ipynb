{
 "cells": [
  {
   "cell_type": "code",
   "execution_count": 2,
   "metadata": {},
   "outputs": [],
   "source": [
    "import numpy as np\n",
    "import matplotlib.pyplot as plt\n",
    "import pandas as pd\n",
    "from sympy import *\n",
    "import scipy as scp\n",
    "from IPython.core.display import Latex\n",
    "\n",
    "def lprint(*args,**kwargs):\n",
    "    \"\"\"Pretty print arguments as LaTeX using IPython display system \n",
    "    \n",
    "    Parameters\n",
    "    ----------\n",
    "    args : tuple \n",
    "        What to print (in LaTeX math mode)\n",
    "    kwargs : dict \n",
    "        optional keywords to pass to `display` \n",
    "    \"\"\"\n",
    "    display(Latex('$$'+' '.join(args)+'$$'),**kwargs)"
   ]
  },
  {
   "cell_type": "markdown",
   "metadata": {},
   "source": [
    "### 2"
   ]
  },
  {
   "cell_type": "markdown",
   "metadata": {},
   "source": [
    "#### 2.1"
   ]
  },
  {
   "cell_type": "code",
   "execution_count": 3,
   "metadata": {},
   "outputs": [
    {
     "name": "stdout",
     "output_type": "stream",
     "text": [
      "0.00040538714472321074\n"
     ]
    }
   ],
   "source": [
    "r_proto_solar = 25e-6\n",
    "err_proto_solar = 5e-6\n",
    "r_comet = 309e-6\n",
    "err_comet = 20e-6\n",
    "r_earth = 149e-6\n",
    "err_earth = 3e-6\n",
    "\n",
    "total = err_earth**2/r_earth**2\n",
    "print(total)\n",
    "#err_earth/r_earth = np.sqrt(err_proto/r_proto + err_comet/r_comet)"
   ]
  },
  {
   "cell_type": "code",
   "execution_count": 4,
   "metadata": {},
   "outputs": [
    {
     "name": "stdout",
     "output_type": "stream",
     "text": [
      "9.548099999999998 0.00040538714472321074\n"
     ]
    }
   ],
   "source": [
    "#doing error propagation\n",
    "\n",
    "part_from_proto_solar = err_proto_solar**2/r_proto_solar**2\n",
    "\n",
    "part_from_comet = err_comet**2/r_comet**2\n",
    "\n",
    "print(part_from_proto_solar/part_from_comet, total)"
   ]
  },
  {
   "cell_type": "markdown",
   "metadata": {},
   "source": [
    "#### 2.2"
   ]
  },
  {
   "cell_type": "markdown",
   "metadata": {},
   "source": [
    "##### 2.2.1"
   ]
  },
  {
   "cell_type": "code",
   "execution_count": 5,
   "metadata": {},
   "outputs": [
    {
     "name": "stdout",
     "output_type": "stream",
     "text": [
      "20.030487804878046\n"
     ]
    },
    {
     "name": "stderr",
     "output_type": "stream",
     "text": [
      "/var/folders/bp/h0lnb5j91bn1mykh3m6j0dx00000gn/T/ipykernel_5624/722994616.py:12: RuntimeWarning: invalid value encountered in sqrt\n",
      "  return np.sqrt(((rate)*(1-(rate)))/t)\n"
     ]
    }
   ],
   "source": [
    "mu_N = 1971\n",
    "\n",
    "mu_t = 98.4\n",
    "\n",
    "sigma_t = 3.7 #always\n",
    "\n",
    "sigma_N = np.sqrt(mu_N)\n",
    "\n",
    "rate = mu_N/mu_t\n",
    "\n",
    "def err_on_frac(rate, t):\n",
    "    return np.sqrt(((rate)*(1-(rate)))/t)\n",
    "\n",
    "d_frac = err_on_frac(rate, mu_t)\n",
    "\n",
    "print(rate)"
   ]
  },
  {
   "cell_type": "code",
   "execution_count": 6,
   "metadata": {},
   "outputs": [
    {
     "data": {
      "text/latex": [
       "$$f = \\frac{N}{t}$$"
      ],
      "text/plain": [
       "<IPython.core.display.Latex object>"
      ]
     },
     "metadata": {},
     "output_type": "display_data"
    },
    {
     "data": {
      "text/latex": [
       "$$\\sigma_{f} = \\sqrt{\\frac{N^{2} \\sigma_{t}^{2}}{t^{4}} + \\frac{\\sigma_{N}^{2}}{t^{2}}}$$"
      ],
      "text/plain": [
       "<IPython.core.display.Latex object>"
      ]
     },
     "metadata": {},
     "output_type": "display_data"
    },
    {
     "data": {
      "text/latex": [
       "$$\\sigma_{N} = \\sqrt{\\frac{\\sigma_{N}^{2}}{t^{2}}}$$"
      ],
      "text/plain": [
       "<IPython.core.display.Latex object>"
      ]
     },
     "metadata": {},
     "output_type": "display_data"
    },
    {
     "data": {
      "text/latex": [
       "$$\\sigma_{t} = \\sqrt{\\frac{N^{2} \\sigma_{t}^{2}}{t^{4}}}$$"
      ],
      "text/plain": [
       "<IPython.core.display.Latex object>"
      ]
     },
     "metadata": {},
     "output_type": "display_data"
    },
    {
     "data": {
      "text/latex": [
       "$$f = (20.0 \\pm 0.9)$$"
      ],
      "text/plain": [
       "<IPython.core.display.Latex object>"
      ]
     },
     "metadata": {},
     "output_type": "display_data"
    },
    {
     "data": {
      "text/latex": [
       "$$dN = 0.5$$"
      ],
      "text/plain": [
       "<IPython.core.display.Latex object>"
      ]
     },
     "metadata": {},
     "output_type": "display_data"
    },
    {
     "data": {
      "text/latex": [
       "$$dt = 0.8$$"
      ],
      "text/plain": [
       "<IPython.core.display.Latex object>"
      ]
     },
     "metadata": {},
     "output_type": "display_data"
    }
   ],
   "source": [
    "mu_N = 1971\n",
    "\n",
    "mu_t = 98.4\n",
    "\n",
    "sigma_t = 3.7 #always\n",
    "\n",
    "sigma_N = np.sqrt(mu_N)\n",
    "\n",
    "f, N, t = symbols('f, N, t')\n",
    "df, dN, dt = symbols('sigma_t, sigma_N, sigma_t')\n",
    "\n",
    "f = N/t\n",
    "\n",
    "lprint(latex(Eq(symbols('f'),f)))\n",
    "\n",
    "df = sqrt(f.diff(N)**2 * dN**2 + f.diff(t)**2 * dt**2)\n",
    "d_N = sqrt(f.diff(N)**2 * dN**2)\n",
    "d_t = sqrt(f.diff(t)**2 * dt**2)\n",
    "\n",
    "lprint(latex(Eq(symbols('sigma_f'),df)))\n",
    "lprint(latex(Eq(symbols('sigma_N'),d_N)))\n",
    "lprint(latex(Eq(symbols('sigma_t'),d_t)))\n",
    "\n",
    "ff = lambdify((N, dN, t, dt), f)\n",
    "fdf = lambdify((N, dN, t, dt), df)\n",
    "fd_N = lambdify((N, dN, t, dt), d_N)\n",
    "fd_t = lambdify((N, dN, t, dt), d_t)\n",
    "\n",
    "vN, vdN = mu_N, sigma_N\n",
    "vt, vdt = mu_t, sigma_t\n",
    "\n",
    "vf = ff(vN, vdN, vt, vdt)\n",
    "vdf = fdf(vN, vdN, vt, vdt)\n",
    "vd_N = fd_N(vN, vdN, vt, vdt)\n",
    "vd_t = fd_t(vN, vdN, vt, vdt)\n",
    "\n",
    "lprint(fr'f = ({vf:.1f} \\pm {vdf:.1f})')\n",
    "lprint(fr'dN = {vd_N:.1f}')\n",
    "lprint(fr'dt = {vd_t:.1f}')"
   ]
  },
  {
   "cell_type": "markdown",
   "metadata": {},
   "source": [
    "##### 2.2.2"
   ]
  },
  {
   "cell_type": "code",
   "execution_count": 17,
   "metadata": {},
   "outputs": [
    {
     "name": "stdout",
     "output_type": "stream",
     "text": [
      "251.90400000000005 98.4\n"
     ]
    }
   ],
   "source": [
    "dn = 0.5\n",
    "dt = 0.8\n",
    "\n",
    "relative_uncertainties = dt/dn\n",
    "\n",
    "print(relative_uncertainties**2*mu_t, mu_t)\n",
    "\n"
   ]
  },
  {
   "cell_type": "markdown",
   "metadata": {},
   "source": [
    "#### 2.3"
   ]
  },
  {
   "cell_type": "markdown",
   "metadata": {},
   "source": [
    "##### 2.3.1"
   ]
  },
  {
   "cell_type": "code",
   "execution_count": 18,
   "metadata": {},
   "outputs": [
    {
     "data": {
      "text/html": [
       "<div>\n",
       "<style scoped>\n",
       "    .dataframe tbody tr th:only-of-type {\n",
       "        vertical-align: middle;\n",
       "    }\n",
       "\n",
       "    .dataframe tbody tr th {\n",
       "        vertical-align: top;\n",
       "    }\n",
       "\n",
       "    .dataframe thead th {\n",
       "        text-align: right;\n",
       "    }\n",
       "</style>\n",
       "<table border=\"1\" class=\"dataframe\">\n",
       "  <thead>\n",
       "    <tr style=\"text-align: right;\">\n",
       "      <th></th>\n",
       "      <th># Position</th>\n",
       "      <th>Uncertainty</th>\n",
       "    </tr>\n",
       "  </thead>\n",
       "  <tbody>\n",
       "    <tr>\n",
       "      <th>0</th>\n",
       "      <td>49.376</td>\n",
       "      <td>-1.000</td>\n",
       "    </tr>\n",
       "    <tr>\n",
       "      <th>1</th>\n",
       "      <td>51.980</td>\n",
       "      <td>-1.000</td>\n",
       "    </tr>\n",
       "    <tr>\n",
       "      <th>2</th>\n",
       "      <td>57.190</td>\n",
       "      <td>-1.000</td>\n",
       "    </tr>\n",
       "    <tr>\n",
       "      <th>3</th>\n",
       "      <td>53.239</td>\n",
       "      <td>-1.000</td>\n",
       "    </tr>\n",
       "    <tr>\n",
       "      <th>4</th>\n",
       "      <td>39.348</td>\n",
       "      <td>-1.000</td>\n",
       "    </tr>\n",
       "    <tr>\n",
       "      <th>...</th>\n",
       "      <td>...</td>\n",
       "      <td>...</td>\n",
       "    </tr>\n",
       "    <tr>\n",
       "      <th>100</th>\n",
       "      <td>132.792</td>\n",
       "      <td>0.818</td>\n",
       "    </tr>\n",
       "    <tr>\n",
       "      <th>101</th>\n",
       "      <td>130.587</td>\n",
       "      <td>0.846</td>\n",
       "    </tr>\n",
       "    <tr>\n",
       "      <th>102</th>\n",
       "      <td>131.470</td>\n",
       "      <td>0.673</td>\n",
       "    </tr>\n",
       "    <tr>\n",
       "      <th>103</th>\n",
       "      <td>131.740</td>\n",
       "      <td>0.929</td>\n",
       "    </tr>\n",
       "    <tr>\n",
       "      <th>104</th>\n",
       "      <td>133.063</td>\n",
       "      <td>0.670</td>\n",
       "    </tr>\n",
       "  </tbody>\n",
       "</table>\n",
       "<p>105 rows × 2 columns</p>\n",
       "</div>"
      ],
      "text/plain": [
       "     # Position    Uncertainty\n",
       "0        49.376         -1.000\n",
       "1        51.980         -1.000\n",
       "2        57.190         -1.000\n",
       "3        53.239         -1.000\n",
       "4        39.348         -1.000\n",
       "..          ...            ...\n",
       "100     132.792          0.818\n",
       "101     130.587          0.846\n",
       "102     131.470          0.673\n",
       "103     131.740          0.929\n",
       "104     133.063          0.670\n",
       "\n",
       "[105 rows x 2 columns]"
      ]
     },
     "execution_count": 18,
     "metadata": {},
     "output_type": "execute_result"
    }
   ],
   "source": [
    "dataframe = pd.read_csv('data_PylonPositions.csv', header=0)\n",
    "Ppos, Ppos_unc = dataframe.values.T\n",
    "dataframe"
   ]
  },
  {
   "cell_type": "code",
   "execution_count": 61,
   "metadata": {},
   "outputs": [
    {
     "data": {
      "image/png": "[encoded data removed]",
      "text/plain": [
       "<Figure size 1000x600 with 1 Axes>"
      ]
     },
     "metadata": {},
     "output_type": "display_data"
    }
   ],
   "source": [
    "plt.figure(figsize=(10,6))\n",
    "plt.hist(Ppos, bins=int(12))\n",
    "plt.xlabel('Pylon Position measurements (m)', fontsize = 14)\n",
    "plt.ylabel('Frequency', fontsize = 14)\n",
    "plt.title('Histogram of Pylon Position measurements', fontsize = 16)\n",
    "plt.savefig('images/PylonPositionHistogram.png')\n",
    "plt.show()"
   ]
  },
  {
   "cell_type": "code",
   "execution_count": 64,
   "metadata": {},
   "outputs": [],
   "source": [
    "def histogram(data, bin_count):\n",
    "\n",
    "    counts, bin_edges = np.histogram(data, bins=bin_count)\n",
    "    bin_centers = (bin_edges[1:] + bin_edges[:-1])/2\n",
    "\n",
    "\n",
    "    x = bin_centers[counts>0]\n",
    "    y = counts[counts>0]\n",
    "    sy = np.sqrt(counts[counts>0])\n",
    "\n",
    "    return x, y, sy\n",
    "\n",
    "x, y, sy = histogram(Ppos, 12)\n",
    "\n",
    "\n",
    "mean1 = np.mean(x[0:2])\n",
    "mean2 = np.mean(x[2:5])\n",
    "mean3 = np.mean(x[5:8])\n",
    "mean4 = np.mean(x[8:12])\n",
    "\n",
    "err1 = np.std(x[0:2])/np.sqrt(2)\n",
    "err2 = np.std(x[2:5])/np.sqrt(3)\n",
    "err3 = np.std(x[5:8])/np.sqrt(3)\n",
    "err4 = np.std(x[8:12])/np.sqrt(4)"
   ]
  },
  {
   "cell_type": "code",
   "execution_count": 65,
   "metadata": {},
   "outputs": [
    {
     "name": "stdout",
     "output_type": "stream",
     "text": [
      "50.205 89.61149999999999 134.6475 168.42450000000002\n",
      "3.980657624689669 5.3075434995862265 10.615086999172453 0.0\n"
     ]
    }
   ],
   "source": [
    "print(mean1, mean2, mean3, mean4)\n",
    "print(err1, err2, err3, err4)"
   ]
  },
  {
   "cell_type": "markdown",
   "metadata": {},
   "source": [
    "##### 2.3.2"
   ]
  },
  {
   "cell_type": "code",
   "execution_count": 66,
   "metadata": {},
   "outputs": [
    {
     "name": "stdout",
     "output_type": "stream",
     "text": [
      "49.992349886932764 91.83989612441644 135.1286741577792 173.05812722760191\n",
      "0.2101874553079862 0.1665494849065803 0.15417199899952022 0.17588329485624693\n"
     ]
    }
   ],
   "source": [
    "mask_1 = Ppos < 70\n",
    "mask_2 = (Ppos >= 70) & (Ppos < 120)\n",
    "mask_3 = (Ppos >= 120) & (Ppos < 170)\n",
    "mask_4 = Ppos >= 170\n",
    "first_pylon = Ppos[mask_1]\n",
    "second_pylon = Ppos[mask_2]\n",
    "third_pylon = Ppos[mask_3]\n",
    "fourth_pylon = Ppos[mask_4]\n",
    "first_pylon_unc = Ppos_unc[mask_1]\n",
    "second_pylon_unc = Ppos_unc[mask_2]\n",
    "third_pylon_unc = Ppos_unc[mask_3]\n",
    "fourth_pylon_unc = Ppos_unc[mask_4]\n",
    "\n",
    "def weighted_mean(vals,sigs):\n",
    "    values = np.array(vals)\n",
    "    uncertainties = np.array(sigs)\n",
    "\n",
    "    # Check if lengths match\n",
    "    if len(values) != len(uncertainties):\n",
    "        raise ValueError(\"Values and uncertainties must have the same length.\")\n",
    "    # Check for zero uncertainties to avoid division errors\n",
    "    if np.any(uncertainties <= 0):\n",
    "        raise ValueError(\"Uncertainties must be positive and non-zero.\")\n",
    "\n",
    "    # Calculate the weights\n",
    "    weights = 1 / (uncertainties ** 2)\n",
    "    # Calculate the weighted mean\n",
    "    weighted_mean = np.sum(weights * values) / np.sum(weights)\n",
    "    # Calculate the uncertainty of the weighted mean\n",
    "    mean_uncertainty = np.sqrt(1 / np.sum(weights))\n",
    "    \n",
    "    \n",
    "    return weighted_mean, mean_uncertainty\n",
    "\n",
    "wmean1, werr1 = weighted_mean(first_pylon, abs(first_pylon_unc))\n",
    "wmean2, werr2 = weighted_mean(second_pylon, abs(second_pylon_unc))\n",
    "wmean3, werr3 = weighted_mean(third_pylon, abs(third_pylon_unc))\n",
    "wmean4, werr4 = weighted_mean(fourth_pylon, abs(fourth_pylon_unc))\n",
    "\n",
    "print(wmean1, wmean2, wmean3, wmean4)\n",
    "print(werr1, werr2, werr3, werr4)\n"
   ]
  },
  {
   "cell_type": "code",
   "execution_count": 73,
   "metadata": {},
   "outputs": [
    {
     "name": "stdout",
     "output_type": "stream",
     "text": [
      "[np.float64(0.05334653458049058), np.float64(0.4196479585433008), np.float64(0.045324491059514756), np.float64(26.34489666223874)] [np.float64(0.9574558037286272), np.float64(0.6747426479114491), np.float64(0.9638486664521931), np.float64(5.872189511959213e-153)]\n"
     ]
    }
   ],
   "source": [
    "def t_measure(mean0, mean1, err0, err1):\n",
    "    return np.abs((mean0 - mean1)) / np.sqrt(err0**2 + err1**2)\n",
    "\n",
    "s1 = [mean1, mean2, mean3, mean4, err1, err2, err3, err4]\n",
    "s2 = np.array([wmean1, wmean2, wmean3, wmean4, werr1, werr2, werr3, werr4])\n",
    "\n",
    "ts_from_test = []\n",
    "ps = []\n",
    "\n",
    "for i in range(4):\n",
    "    t = t_measure(s1[i], s2[i], s1[i+4], s2[i+4])\n",
    "    ts_from_test.append(t)\n",
    "    ps.append(2.0*scp.stats.norm.cdf(-np.abs(t), loc=0, scale=1))\n",
    "\n",
    "print(ts_from_test, ps)"
   ]
  },
  {
   "cell_type": "markdown",
   "metadata": {},
   "source": [
    "##### 2.3.3"
   ]
  },
  {
   "cell_type": "code",
   "execution_count": 94,
   "metadata": {},
   "outputs": [
    {
     "name": "stdout",
     "output_type": "stream",
     "text": [
      "41.84754623748368 43.288778033362746 37.92945306982273\n",
      "0.26817437851423076 0.22695315859920365 0.2338887314194456\n"
     ]
    }
   ],
   "source": [
    "#Using combined measurements to check for equidistance\n",
    "\n",
    "means = [wmean1, wmean2, wmean3, wmean4]\n",
    "errors = [werr1, werr2, werr3, werr4]\n",
    "\n",
    "def equidistance_test(means, errors):\n",
    "    dist = []\n",
    "    error_dist = []\n",
    "    for i in range(len(means)-1):\n",
    "        dist.append(means[i+1] - means[i])\n",
    "        error_dist.append(np.sqrt(errors[i]**2 + errors[i+1]**2))\n",
    "\n",
    "\n",
    "dist1 = means[1] - means[0]\n",
    "dist2 = means[2] - means[1]\n",
    "dist3 = means[3] - means[2]\n",
    "\n",
    "error_dist1 = np.sqrt(errors[1]**2 + errors[0]**2)\n",
    "error_dist2 = np.sqrt(errors[2]**2 + errors[1]**2)\n",
    "error_dist3 = np.sqrt(errors[3]**2 + errors[2]**2)\n",
    "\n",
    "print(dist1, dist2, dist3)\n",
    "print(error_dist1, error_dist2, error_dist3)\n",
    "\n"
   ]
  },
  {
   "cell_type": "code",
   "execution_count": 102,
   "metadata": {},
   "outputs": [
    {
     "data": {
      "image/png": "[encoded data removed]",
      "text/plain": [
       "<Figure size 1000x600 with 1 Axes>"
      ]
     },
     "metadata": {},
     "output_type": "display_data"
    }
   ],
   "source": [
    "plt.figure(figsize=(10,6))\n",
    "plt.errorbar([0, 1, 2], [dist1, dist2, dist3], yerr=[error_dist1, error_dist2, error_dist3], fmt='o', label='Measured distances with errors')\n",
    "plt.xticks([0, 1, 2], ['Pylon 1 to 2', 'Pylon 2 to 3', 'Pylon 3 to 4'], fontsize = 14)\n",
    "plt.ylabel('Distance (m)', fontsize = 14)\n",
    "plt.title('Measured distances between pylons', fontsize = 16)\n",
    "plt.xlim(-0.5, 2.5)\n",
    "plt.axhline(40.833, color='g', label='Accepted distance')\n",
    "plt.fill_between([-1, 0, 1, 2, 3], 40.833-1.05, 40.833+1.05, color='g', alpha=0.3)\n",
    "plt.legend()\n",
    "plt.savefig('images/MeasuredDistances.png', dpi = 600)"
   ]
  },
  {
   "cell_type": "code",
   "execution_count": null,
   "metadata": {},
   "outputs": [],
   "source": []
  }
 ],
 "metadata": {
  "kernelspec": {
   "display_name": "Python 3",
   "language": "python",
   "name": "python3"
  },
  "language_info": {
   "codemirror_mode": {
    "name": "ipython",
    "version": 3
   },
   "file_extension": ".py",
   "mimetype": "text/x-python",
   "name": "python",
   "nbconvert_exporter": "python",
   "pygments_lexer": "ipython3",
   "version": "3.9.6"
  }
 },
 "nbformat": 4,
 "nbformat_minor": 2
}
